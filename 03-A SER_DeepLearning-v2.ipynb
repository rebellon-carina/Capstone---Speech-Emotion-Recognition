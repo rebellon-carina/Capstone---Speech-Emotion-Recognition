{
 "cells": [
  {
   "cell_type": "markdown",
   "id": "96a49311",
   "metadata": {},
   "source": [
    "# Deep Learning Model\n",
    "\n",
    "\n",
    "1. Load our train and test dataset\n",
    "2. Base Model\n",
    "3. Define X and Y\n",
    "4. Need to scale the data before we build our models\n",
    "5. Building Model using deep learning\n",
    "6. Metrics\n",
    "7. Summary"
   ]
  },
  {
   "cell_type": "code",
   "execution_count": 1,
   "id": "d70b0b63",
   "metadata": {},
   "outputs": [],
   "source": [
    "#import packages\n",
    "import numpy as np\n",
    "import matplotlib.pyplot as plt\n",
    "import pandas as pd\n",
    "import seaborn as sns\n",
    "\n",
    "from sklearn.ensemble import RandomForestClassifier\n",
    "from sklearn.linear_model import LogisticRegression\n",
    "#boosting\n",
    "from sklearn.ensemble import GradientBoostingClassifier, VotingClassifier\n",
    "\n",
    "\n",
    "from sklearn.preprocessing import StandardScaler, OneHotEncoder\n",
    "from sklearn.metrics import confusion_matrix, classification_report\n",
    "#from sklearn.model_selection import train_test_split,GridSearchCV,StratifiedKFold\n",
    "\n",
    "from datetime import datetime\n",
    "\n",
    "import keras\n",
    "from keras.callbacks import ReduceLROnPlateau\n",
    "from keras.models import Sequential\n",
    "from keras.layers import Dense, Conv1D, MaxPooling1D, Flatten, Dropout, BatchNormalization,Activation\n",
    "from tensorflow.keras import utils\n",
    "#from keras.utils import np_utils, to_categorical\n",
    "from keras.callbacks import ModelCheckpoint\n",
    "\n",
    "from tensorflow.keras.optimizers import Adam"
   ]
  },
  {
   "cell_type": "markdown",
   "id": "fb127e0b",
   "metadata": {},
   "source": [
    "### 1. Load our train and test dataset"
   ]
  },
  {
   "cell_type": "code",
   "execution_count": 58,
   "id": "80320fb3",
   "metadata": {},
   "outputs": [],
   "source": [
    "df_train = pd.read_csv(\"./dataset/train.csv\")\n",
    "df_test = pd.read_csv(\"./dataset/test.csv\")"
   ]
  },
  {
   "cell_type": "code",
   "execution_count": 59,
   "id": "277ab88f",
   "metadata": {},
   "outputs": [
    {
     "data": {
      "text/plain": [
       "(10188, 187)"
      ]
     },
     "execution_count": 59,
     "metadata": {},
     "output_type": "execute_result"
    }
   ],
   "source": [
    "df_train.shape"
   ]
  },
  {
   "cell_type": "code",
   "execution_count": 60,
   "id": "99402ca9",
   "metadata": {},
   "outputs": [
    {
     "data": {
      "text/plain": [
       "(1132, 187)"
      ]
     },
     "execution_count": 60,
     "metadata": {},
     "output_type": "execute_result"
    }
   ],
   "source": [
    "df_test.shape"
   ]
  },
  {
   "cell_type": "markdown",
   "id": "7cca7819",
   "metadata": {},
   "source": [
    "## 2. Base Model"
   ]
  },
  {
   "cell_type": "code",
   "execution_count": 61,
   "id": "eb022982",
   "metadata": {},
   "outputs": [
    {
     "data": {
      "text/plain": [
       "disgust      0.143993\n",
       "fear         0.143993\n",
       "happy        0.143993\n",
       "sad          0.143993\n",
       "angry        0.143993\n",
       "surprised    0.143993\n",
       "neutral      0.136042\n",
       "Name: label, dtype: float64"
      ]
     },
     "execution_count": 61,
     "metadata": {},
     "output_type": "execute_result"
    }
   ],
   "source": [
    "df_test[\"label\"].value_counts(normalize=True)"
   ]
  },
  {
   "cell_type": "code",
   "execution_count": 62,
   "id": "53559e43",
   "metadata": {},
   "outputs": [
    {
     "data": {
      "text/plain": [
       "fear         0.143993\n",
       "happy        0.143993\n",
       "surprised    0.143993\n",
       "sad          0.143993\n",
       "angry        0.143993\n",
       "disgust      0.143993\n",
       "neutral      0.136042\n",
       "Name: label, dtype: float64"
      ]
     },
     "execution_count": 62,
     "metadata": {},
     "output_type": "execute_result"
    }
   ],
   "source": [
    "df_train[\"label\"].value_counts(normalize=True)"
   ]
  },
  {
   "cell_type": "markdown",
   "id": "559af292",
   "metadata": {},
   "source": [
    "***Base Model is around 14%***"
   ]
  },
  {
   "cell_type": "markdown",
   "id": "a4176699",
   "metadata": {},
   "source": [
    "### 3. Define X and Y"
   ]
  },
  {
   "cell_type": "code",
   "execution_count": 86,
   "id": "a692b14f",
   "metadata": {},
   "outputs": [],
   "source": [
    "#since we already split our data to train and test in the prior notebook, we will just assign the values accordingly\n",
    "X_train = df_train.drop(columns=[\"label\", \"file\"])\n",
    "y_train = df_train[\"label\"]\n",
    "\n",
    "X_test = df_test.drop(columns=[\"label\", \"file\"])\n",
    "y_test = df_test[\"label\"]"
   ]
  },
  {
   "cell_type": "markdown",
   "id": "7d668aec",
   "metadata": {},
   "source": [
    "### 4. Need to scale the data before we build our models"
   ]
  },
  {
   "cell_type": "code",
   "execution_count": 87,
   "id": "aaad8d17",
   "metadata": {},
   "outputs": [],
   "source": [
    "# scaling our data with sklearn's Standard scaler\n",
    "scaler = StandardScaler()\n",
    "X_train_scaled = scaler.fit_transform(X_train)\n",
    "X_test_scaled = scaler.transform(X_test)"
   ]
  },
  {
   "cell_type": "code",
   "execution_count": 88,
   "id": "d11b31af",
   "metadata": {},
   "outputs": [],
   "source": [
    "# fix for data compatibility\n",
    "X_train_exp = np.expand_dims(X_train_scaled, axis=2)\n",
    "X_test_exp = np.expand_dims(X_test_scaled, axis=2)"
   ]
  },
  {
   "cell_type": "code",
   "execution_count": 89,
   "id": "ea031f7f",
   "metadata": {},
   "outputs": [
    {
     "data": {
      "text/plain": [
       "(10188, 185, 1)"
      ]
     },
     "execution_count": 89,
     "metadata": {},
     "output_type": "execute_result"
    }
   ],
   "source": [
    "X_train_exp.shape"
   ]
  },
  {
   "cell_type": "code",
   "execution_count": 90,
   "id": "5a1f862c",
   "metadata": {},
   "outputs": [
    {
     "data": {
      "text/plain": [
       "(1132, 185, 1)"
      ]
     },
     "execution_count": 90,
     "metadata": {},
     "output_type": "execute_result"
    }
   ],
   "source": [
    "X_test_exp.shape"
   ]
  },
  {
   "cell_type": "code",
   "execution_count": 91,
   "id": "a0661053",
   "metadata": {},
   "outputs": [
    {
     "data": {
      "text/plain": [
       "0           fear\n",
       "1           fear\n",
       "2           fear\n",
       "3          happy\n",
       "4          happy\n",
       "          ...   \n",
       "10183    neutral\n",
       "10184    neutral\n",
       "10185      angry\n",
       "10186      angry\n",
       "10187      angry\n",
       "Name: label, Length: 10188, dtype: object"
      ]
     },
     "execution_count": 91,
     "metadata": {},
     "output_type": "execute_result"
    }
   ],
   "source": [
    "y_train"
   ]
  },
  {
   "cell_type": "code",
   "execution_count": 92,
   "id": "0f11ab31",
   "metadata": {},
   "outputs": [],
   "source": [
    "#onehotencoding\n",
    "# As this is a multiclass classification problem onehotencoding our Y.\n",
    "encoder = OneHotEncoder()\n",
    "y_train = encoder.fit_transform(np.array(y_train).reshape(-1,1)).toarray()\n",
    "y_test = encoder.transform(np.array(y_test).reshape(-1,1)).toarray()"
   ]
  },
  {
   "cell_type": "code",
   "execution_count": 93,
   "id": "25007c3c",
   "metadata": {},
   "outputs": [
    {
     "data": {
      "text/plain": [
       "[array(['angry', 'disgust', 'fear', 'happy', 'neutral', 'sad', 'surprised'],\n",
       "       dtype=object)]"
      ]
     },
     "execution_count": 93,
     "metadata": {},
     "output_type": "execute_result"
    }
   ],
   "source": [
    "encoder.categories_"
   ]
  },
  {
   "cell_type": "code",
   "execution_count": 94,
   "id": "6d2e51e7",
   "metadata": {},
   "outputs": [
    {
     "data": {
      "text/plain": [
       "(10188, 7)"
      ]
     },
     "execution_count": 94,
     "metadata": {},
     "output_type": "execute_result"
    }
   ],
   "source": [
    "y_train.shape"
   ]
  },
  {
   "cell_type": "code",
   "execution_count": 95,
   "id": "716c006b",
   "metadata": {},
   "outputs": [
    {
     "data": {
      "text/plain": [
       "(1132, 7)"
      ]
     },
     "execution_count": 95,
     "metadata": {},
     "output_type": "execute_result"
    }
   ],
   "source": [
    "y_test.shape"
   ]
  },
  {
   "cell_type": "code",
   "execution_count": 96,
   "id": "c40eabc3",
   "metadata": {},
   "outputs": [
    {
     "data": {
      "text/plain": [
       "array([0., 0., 0., 0., 1., 0., 0.])"
      ]
     },
     "execution_count": 96,
     "metadata": {},
     "output_type": "execute_result"
    }
   ],
   "source": [
    "y_test[0]"
   ]
  },
  {
   "cell_type": "markdown",
   "id": "07cdb2a3",
   "metadata": {},
   "source": [
    "### 5. Building Models"
   ]
  },
  {
   "cell_type": "code",
   "execution_count": 17,
   "id": "bbbae267",
   "metadata": {},
   "outputs": [],
   "source": [
    "#opt = Adam(learning_rate=0.0005)\n",
    "\n",
    "model = Sequential()\n",
    "model.add(Conv1D(256, 7, padding='same', input_shape=(X_test_exp.shape[1],1)))  # X_train.shape[1] = No. of Columns\n",
    "model.add(Activation('relu'))\n",
    "model.add(Conv1D(256, 7, padding='same'))\n",
    "model.add(BatchNormalization())\n",
    "model.add(Activation('relu'))\n",
    "model.add(Dropout(0.25))\n",
    "model.add(MaxPooling1D(pool_size=(7)))\n",
    "model.add(Conv1D(128, 7, padding='same'))\n",
    "model.add(Activation('relu'))\n",
    "model.add(Conv1D(128, 7, padding='same'))\n",
    "model.add(Activation('relu'))\n",
    "model.add(Conv1D(128, 7, padding='same'))\n",
    "model.add(Activation('relu'))\n",
    "model.add(Conv1D(128, 7, padding='same'))\n",
    "model.add(BatchNormalization())\n",
    "model.add(Activation('relu'))\n",
    "model.add(Dropout(0.25))\n",
    "model.add(MaxPooling1D(pool_size=(7)))\n",
    "model.add(Conv1D(64, 7, padding='same'))\n",
    "model.add(Activation('relu'))\n",
    "model.add(Conv1D(64, 7, padding='same'))\n",
    "model.add(Activation('relu'))\n",
    "model.add(Flatten())\n",
    "model.add(Dense(y_train.shape[1])) # Target class number\n",
    "model.add(Activation('softmax'))\n",
    "model.compile(optimizer = 'adam' , loss = 'categorical_crossentropy' , metrics = ['accuracy'])\n",
    "    "
   ]
  },
  {
   "cell_type": "code",
   "execution_count": 18,
   "id": "299ecb9a",
   "metadata": {},
   "outputs": [
    {
     "name": "stdout",
     "output_type": "stream",
     "text": [
      "Model: \"sequential\"\n",
      "_________________________________________________________________\n",
      " Layer (type)                Output Shape              Param #   \n",
      "=================================================================\n",
      " conv1d (Conv1D)             (None, 185, 256)          2048      \n",
      "                                                                 \n",
      " activation (Activation)     (None, 185, 256)          0         \n",
      "                                                                 \n",
      " conv1d_1 (Conv1D)           (None, 185, 256)          459008    \n",
      "                                                                 \n",
      " batch_normalization (BatchN  (None, 185, 256)         1024      \n",
      " ormalization)                                                   \n",
      "                                                                 \n",
      " activation_1 (Activation)   (None, 185, 256)          0         \n",
      "                                                                 \n",
      " dropout (Dropout)           (None, 185, 256)          0         \n",
      "                                                                 \n",
      " max_pooling1d (MaxPooling1D  (None, 26, 256)          0         \n",
      " )                                                               \n",
      "                                                                 \n",
      " conv1d_2 (Conv1D)           (None, 26, 128)           229504    \n",
      "                                                                 \n",
      " activation_2 (Activation)   (None, 26, 128)           0         \n",
      "                                                                 \n",
      " conv1d_3 (Conv1D)           (None, 26, 128)           114816    \n",
      "                                                                 \n",
      " activation_3 (Activation)   (None, 26, 128)           0         \n",
      "                                                                 \n",
      " conv1d_4 (Conv1D)           (None, 26, 128)           114816    \n",
      "                                                                 \n",
      " activation_4 (Activation)   (None, 26, 128)           0         \n",
      "                                                                 \n",
      " conv1d_5 (Conv1D)           (None, 26, 128)           114816    \n",
      "                                                                 \n",
      " batch_normalization_1 (Batc  (None, 26, 128)          512       \n",
      " hNormalization)                                                 \n",
      "                                                                 \n",
      " activation_5 (Activation)   (None, 26, 128)           0         \n",
      "                                                                 \n",
      " dropout_1 (Dropout)         (None, 26, 128)           0         \n",
      "                                                                 \n",
      " max_pooling1d_1 (MaxPooling  (None, 3, 128)           0         \n",
      " 1D)                                                             \n",
      "                                                                 \n",
      " conv1d_6 (Conv1D)           (None, 3, 64)             57408     \n",
      "                                                                 \n",
      " activation_6 (Activation)   (None, 3, 64)             0         \n",
      "                                                                 \n",
      " conv1d_7 (Conv1D)           (None, 3, 64)             28736     \n",
      "                                                                 \n",
      " activation_7 (Activation)   (None, 3, 64)             0         \n",
      "                                                                 \n",
      " flatten (Flatten)           (None, 192)               0         \n",
      "                                                                 \n",
      " dense (Dense)               (None, 7)                 1351      \n",
      "                                                                 \n",
      " activation_8 (Activation)   (None, 7)                 0         \n",
      "                                                                 \n",
      "=================================================================\n",
      "Total params: 1,124,039\n",
      "Trainable params: 1,123,271\n",
      "Non-trainable params: 768\n",
      "_________________________________________________________________\n",
      "Epoch 1/50\n",
      "160/160 [==============================] - 35s 210ms/step - loss: 1.0093 - accuracy: 0.6253 - val_loss: 4.0959 - val_accuracy: 0.1458\n",
      "Epoch 2/50\n",
      "160/160 [==============================] - 41s 258ms/step - loss: 0.6537 - accuracy: 0.7514 - val_loss: 1.1660 - val_accuracy: 0.5963\n",
      "Epoch 3/50\n",
      "160/160 [==============================] - 44s 274ms/step - loss: 0.5791 - accuracy: 0.7813 - val_loss: 0.5685 - val_accuracy: 0.7845\n",
      "Epoch 4/50\n",
      "160/160 [==============================] - 42s 265ms/step - loss: 0.5221 - accuracy: 0.8034 - val_loss: 0.5799 - val_accuracy: 0.7730\n",
      "Epoch 5/50\n",
      "160/160 [==============================] - 43s 266ms/step - loss: 0.4850 - accuracy: 0.8180 - val_loss: 0.5362 - val_accuracy: 0.8048\n",
      "Epoch 6/50\n",
      "160/160 [==============================] - 43s 266ms/step - loss: 0.4557 - accuracy: 0.8284 - val_loss: 0.6374 - val_accuracy: 0.7703\n",
      "Epoch 7/50\n",
      "160/160 [==============================] - 43s 272ms/step - loss: 0.4224 - accuracy: 0.8398 - val_loss: 0.4919 - val_accuracy: 0.8118\n",
      "Epoch 8/50\n",
      "160/160 [==============================] - 44s 275ms/step - loss: 0.3877 - accuracy: 0.8520 - val_loss: 0.5823 - val_accuracy: 0.7915\n",
      "Epoch 9/50\n",
      "160/160 [==============================] - 43s 266ms/step - loss: 0.3568 - accuracy: 0.8640 - val_loss: 0.7469 - val_accuracy: 0.7412\n",
      "Epoch 10/50\n",
      "160/160 [==============================] - 42s 262ms/step - loss: 0.3402 - accuracy: 0.8729 - val_loss: 0.5911 - val_accuracy: 0.8039\n",
      "Epoch 11/50\n",
      "160/160 [==============================] - 44s 274ms/step - loss: 0.3056 - accuracy: 0.8845 - val_loss: 0.4920 - val_accuracy: 0.8242\n",
      "Epoch 12/50\n",
      "160/160 [==============================] - 45s 281ms/step - loss: 0.3019 - accuracy: 0.8866 - val_loss: 0.5213 - val_accuracy: 0.8145\n",
      "Epoch 13/50\n",
      "160/160 [==============================] - 44s 273ms/step - loss: 0.2592 - accuracy: 0.9016 - val_loss: 0.5514 - val_accuracy: 0.8198\n",
      "Epoch 14/50\n",
      "160/160 [==============================] - 41s 259ms/step - loss: 0.2391 - accuracy: 0.9101 - val_loss: 0.6275 - val_accuracy: 0.8118\n",
      "Epoch 15/50\n",
      "160/160 [==============================] - 41s 259ms/step - loss: 0.2114 - accuracy: 0.9189 - val_loss: 0.6475 - val_accuracy: 0.8110\n",
      "Epoch 16/50\n",
      "160/160 [==============================] - 44s 274ms/step - loss: 0.2101 - accuracy: 0.9198 - val_loss: 0.5595 - val_accuracy: 0.8383\n",
      "Epoch 17/50\n",
      "160/160 [==============================] - 48s 299ms/step - loss: 0.2002 - accuracy: 0.9266 - val_loss: 0.5443 - val_accuracy: 0.8304\n",
      "Epoch 18/50\n",
      "160/160 [==============================] - 44s 275ms/step - loss: 0.1802 - accuracy: 0.9335 - val_loss: 0.6241 - val_accuracy: 0.8260\n",
      "Epoch 19/50\n",
      "160/160 [==============================] - 45s 278ms/step - loss: 0.1673 - accuracy: 0.9371 - val_loss: 0.4916 - val_accuracy: 0.8419\n",
      "Epoch 20/50\n",
      "160/160 [==============================] - 45s 283ms/step - loss: 0.1592 - accuracy: 0.9407 - val_loss: 0.5720 - val_accuracy: 0.8339\n",
      "Epoch 21/50\n",
      "160/160 [==============================] - 43s 269ms/step - loss: 0.1315 - accuracy: 0.9523 - val_loss: 0.5572 - val_accuracy: 0.8366\n",
      "Epoch 22/50\n",
      "160/160 [==============================] - 45s 284ms/step - loss: 0.1303 - accuracy: 0.9546 - val_loss: 0.5260 - val_accuracy: 0.8507\n",
      "Epoch 23/50\n",
      "160/160 [==============================] - 45s 279ms/step - loss: 0.1123 - accuracy: 0.9580 - val_loss: 0.5553 - val_accuracy: 0.8339\n",
      "Epoch 24/50\n",
      "160/160 [==============================] - 43s 267ms/step - loss: 0.1168 - accuracy: 0.9572 - val_loss: 0.6063 - val_accuracy: 0.8269\n",
      "Epoch 25/50\n",
      "160/160 [==============================] - 43s 268ms/step - loss: 0.1214 - accuracy: 0.9571 - val_loss: 0.6107 - val_accuracy: 0.8410\n",
      "Epoch 26/50\n",
      "160/160 [==============================] - 44s 277ms/step - loss: 0.1080 - accuracy: 0.9617 - val_loss: 0.5595 - val_accuracy: 0.8481\n",
      "Epoch 27/50\n",
      "160/160 [==============================] - 44s 273ms/step - loss: 0.0909 - accuracy: 0.9685 - val_loss: 0.5688 - val_accuracy: 0.8383\n",
      "Epoch 28/50\n",
      "160/160 [==============================] - 43s 269ms/step - loss: 0.0875 - accuracy: 0.9686 - val_loss: 0.6237 - val_accuracy: 0.8366\n",
      "Epoch 29/50\n",
      "160/160 [==============================] - 46s 286ms/step - loss: 0.0855 - accuracy: 0.9695 - val_loss: 0.5919 - val_accuracy: 0.8481\n"
     ]
    },
    {
     "name": "stdout",
     "output_type": "stream",
     "text": [
      "Epoch 30/50\n",
      "160/160 [==============================] - 45s 283ms/step - loss: 0.0838 - accuracy: 0.9710 - val_loss: 0.5863 - val_accuracy: 0.8525\n",
      "Epoch 31/50\n",
      "160/160 [==============================] - 44s 277ms/step - loss: 0.0649 - accuracy: 0.9776 - val_loss: 0.6809 - val_accuracy: 0.8419\n",
      "Epoch 32/50\n",
      "160/160 [==============================] - 43s 272ms/step - loss: 0.0582 - accuracy: 0.9796 - val_loss: 0.6481 - val_accuracy: 0.8410\n",
      "Epoch 33/50\n",
      "160/160 [==============================] - 43s 267ms/step - loss: 0.0750 - accuracy: 0.9735 - val_loss: 0.7186 - val_accuracy: 0.8348\n",
      "Epoch 34/50\n",
      "160/160 [==============================] - 42s 265ms/step - loss: 0.0919 - accuracy: 0.9669 - val_loss: 0.6960 - val_accuracy: 0.8392\n",
      "Epoch 35/50\n",
      "160/160 [==============================] - 43s 272ms/step - loss: 0.0533 - accuracy: 0.9804 - val_loss: 0.7884 - val_accuracy: 0.8313\n",
      "Epoch 36/50\n",
      "160/160 [==============================] - 43s 272ms/step - loss: 0.0589 - accuracy: 0.9797 - val_loss: 0.7839 - val_accuracy: 0.8286\n",
      "Epoch 37/50\n",
      "160/160 [==============================] - 44s 272ms/step - loss: 0.0470 - accuracy: 0.9840 - val_loss: 0.6479 - val_accuracy: 0.8569\n",
      "Epoch 38/50\n",
      "160/160 [==============================] - 43s 272ms/step - loss: 0.0462 - accuracy: 0.9847 - val_loss: 0.7136 - val_accuracy: 0.8410\n",
      "Epoch 39/50\n",
      "160/160 [==============================] - 43s 272ms/step - loss: 0.0640 - accuracy: 0.9787 - val_loss: 0.6348 - val_accuracy: 0.8489\n",
      "Epoch 40/50\n",
      "160/160 [==============================] - 43s 271ms/step - loss: 0.0471 - accuracy: 0.9845 - val_loss: 0.6866 - val_accuracy: 0.8498\n",
      "Epoch 41/50\n",
      "160/160 [==============================] - 47s 292ms/step - loss: 0.0498 - accuracy: 0.9810 - val_loss: 0.6919 - val_accuracy: 0.8436\n",
      "Epoch 42/50\n",
      "160/160 [==============================] - 45s 282ms/step - loss: 0.0511 - accuracy: 0.9820 - val_loss: 0.7510 - val_accuracy: 0.8330\n",
      "Epoch 43/50\n",
      "160/160 [==============================] - 44s 275ms/step - loss: 0.0517 - accuracy: 0.9826 - val_loss: 0.6934 - val_accuracy: 0.8339\n",
      "Epoch 44/50\n",
      "160/160 [==============================] - 46s 290ms/step - loss: 0.0411 - accuracy: 0.9852 - val_loss: 0.9312 - val_accuracy: 0.8348\n",
      "Epoch 45/50\n",
      "160/160 [==============================] - 47s 293ms/step - loss: 0.0485 - accuracy: 0.9840 - val_loss: 0.6858 - val_accuracy: 0.8428\n",
      "Epoch 46/50\n",
      "160/160 [==============================] - 49s 304ms/step - loss: 0.0480 - accuracy: 0.9846 - val_loss: 0.7957 - val_accuracy: 0.8286\n",
      "Epoch 47/50\n",
      "160/160 [==============================] - 46s 288ms/step - loss: 0.0402 - accuracy: 0.9860 - val_loss: 0.7336 - val_accuracy: 0.8392\n",
      "Epoch 48/50\n",
      "160/160 [==============================] - 46s 286ms/step - loss: 0.0343 - accuracy: 0.9873 - val_loss: 0.7507 - val_accuracy: 0.8507\n",
      "Epoch 49/50\n",
      "160/160 [==============================] - 51s 317ms/step - loss: 0.0490 - accuracy: 0.9842 - val_loss: 0.6556 - val_accuracy: 0.8445\n",
      "Epoch 50/50\n",
      "160/160 [==============================] - 50s 313ms/step - loss: 0.0404 - accuracy: 0.9875 - val_loss: 0.7219 - val_accuracy: 0.8569\n"
     ]
    }
   ],
   "source": [
    "model.summary()\n",
    "\n",
    "history=model.fit(X_train_exp, y_train, batch_size=64, epochs=50, validation_data=(X_test_exp, y_test))"
   ]
  },
  {
   "cell_type": "code",
   "execution_count": 19,
   "id": "f0555c87",
   "metadata": {},
   "outputs": [
    {
     "data": {
      "image/png": "[encoded data removed]",
      "text/plain": [
       "<Figure size 432x288 with 1 Axes>"
      ]
     },
     "metadata": {
      "needs_background": "light"
     },
     "output_type": "display_data"
    }
   ],
   "source": [
    "plt.plot(history.history['loss'], label='Train loss')\n",
    "plt.plot(history.history['val_loss'], label='Val Loss')\n",
    "plt.legend();"
   ]
  },
  {
   "cell_type": "code",
   "execution_count": 20,
   "id": "17d8717a",
   "metadata": {},
   "outputs": [
    {
     "data": {
      "image/png": "[encoded data removed]",
      "text/plain": [
       "<Figure size 432x288 with 1 Axes>"
      ]
     },
     "metadata": {
      "needs_background": "light"
     },
     "output_type": "display_data"
    }
   ],
   "source": [
    "plt.plot(history.history['accuracy'], label='Train accuracy')\n",
    "plt.plot(history.history['val_accuracy'], label='Val accuracy')\n",
    "plt.legend();"
   ]
  },
  {
   "cell_type": "code",
   "execution_count": 98,
   "id": "38e7b9be",
   "metadata": {},
   "outputs": [],
   "source": [
    "# predicting on test data.\n",
    "pred_test = model.predict(X_test_exp)\n",
    "y_pred = encoder.inverse_transform(pred_test)\n",
    "y_test = encoder.inverse_transform(y_test)"
   ]
  },
  {
   "cell_type": "code",
   "execution_count": 99,
   "id": "ef303d2b",
   "metadata": {},
   "outputs": [
    {
     "data": {
      "text/plain": [
       "array(['neutral'], dtype=object)"
      ]
     },
     "execution_count": 99,
     "metadata": {},
     "output_type": "execute_result"
    }
   ],
   "source": [
    "y_test[0]"
   ]
  },
  {
   "cell_type": "code",
   "execution_count": 101,
   "id": "ecd06dc8",
   "metadata": {},
   "outputs": [
    {
     "data": {
      "text/plain": [
       "array(['neutral'], dtype=object)"
      ]
     },
     "execution_count": 101,
     "metadata": {},
     "output_type": "execute_result"
    }
   ],
   "source": [
    "y_test[0]"
   ]
  },
  {
   "cell_type": "code",
   "execution_count": 100,
   "id": "6f6e6dfb",
   "metadata": {},
   "outputs": [
    {
     "data": {
      "text/plain": [
       "array(['neutral'], dtype=object)"
      ]
     },
     "execution_count": 100,
     "metadata": {},
     "output_type": "execute_result"
    }
   ],
   "source": [
    "y_pred[0]"
   ]
  },
  {
   "cell_type": "code",
   "execution_count": 102,
   "id": "2bf57cea",
   "metadata": {},
   "outputs": [
    {
     "data": {
      "image/png": "[encoded data removed]",
      "text/plain": [
       "<Figure size 720x360 with 2 Axes>"
      ]
     },
     "metadata": {
      "needs_background": "light"
     },
     "output_type": "display_data"
    }
   ],
   "source": [
    "cm = confusion_matrix(y_test, y_pred)\n",
    "plt.figure(figsize = (10, 5))\n",
    "cm = pd.DataFrame(cm , index = [i for i in encoder.categories_] , columns = [i for i in encoder.categories_])\n",
    "sns.heatmap(cm, linecolor='white', cmap='Blues', linewidth=1, annot=True, fmt='')\n",
    "plt.title('Confusion Matrix', size=20)\n",
    "plt.xlabel('Predicted Labels', size=14)\n",
    "plt.ylabel('Actual Labels', size=14)\n",
    "plt.show()"
   ]
  },
  {
   "cell_type": "code",
   "execution_count": 103,
   "id": "34c9a484",
   "metadata": {},
   "outputs": [
    {
     "name": "stdout",
     "output_type": "stream",
     "text": [
      "              precision    recall  f1-score   support\n",
      "\n",
      "       angry       0.83      0.91      0.87       163\n",
      "     disgust       0.73      0.90      0.80       163\n",
      "        fear       0.92      0.77      0.84       163\n",
      "       happy       0.86      0.80      0.83       163\n",
      "     neutral       0.84      0.92      0.88       154\n",
      "         sad       0.91      0.84      0.88       163\n",
      "   surprised       0.96      0.87      0.91       163\n",
      "\n",
      "    accuracy                           0.86      1132\n",
      "   macro avg       0.86      0.86      0.86      1132\n",
      "weighted avg       0.87      0.86      0.86      1132\n",
      "\n"
     ]
    }
   ],
   "source": [
    "print(classification_report(y_test, y_pred))"
   ]
  },
  {
   "cell_type": "markdown",
   "id": "90a1ea27",
   "metadata": {},
   "source": [
    "## SAVING THE MODEL and Testing"
   ]
  },
  {
   "cell_type": "code",
   "execution_count": 104,
   "id": "21631632",
   "metadata": {},
   "outputs": [],
   "source": [
    "from keras.models import load_model\n",
    "model.save(\"ser.h5\")\n",
    "loaded_model = load_model(\"ser.h5\")"
   ]
  },
  {
   "cell_type": "code",
   "execution_count": 105,
   "id": "8e590bf0",
   "metadata": {},
   "outputs": [],
   "source": [
    "pred = loaded_model.predict(X_test_exp)\n",
    "y_pred = encoder.inverse_transform(pred)"
   ]
  },
  {
   "cell_type": "code",
   "execution_count": 106,
   "id": "33d1e9ff",
   "metadata": {},
   "outputs": [
    {
     "data": {
      "text/plain": [
       "array(['neutral'], dtype=object)"
      ]
     },
     "execution_count": 106,
     "metadata": {},
     "output_type": "execute_result"
    }
   ],
   "source": [
    "y_pred[0]"
   ]
  },
  {
   "cell_type": "code",
   "execution_count": 107,
   "id": "46283c87",
   "metadata": {},
   "outputs": [
    {
     "data": {
      "text/plain": [
       "array(['neutral'], dtype=object)"
      ]
     },
     "execution_count": 107,
     "metadata": {},
     "output_type": "execute_result"
    }
   ],
   "source": [
    "y_test[0]"
   ]
  },
  {
   "cell_type": "code",
   "execution_count": 108,
   "id": "9b6a3ffa",
   "metadata": {},
   "outputs": [
    {
     "data": {
      "image/png": "[encoded data removed]",
      "text/plain": [
       "<Figure size 720x360 with 2 Axes>"
      ]
     },
     "metadata": {
      "needs_background": "light"
     },
     "output_type": "display_data"
    }
   ],
   "source": [
    "cm = confusion_matrix(y_test, y_pred)\n",
    "plt.figure(figsize = (10, 5))\n",
    "cm = pd.DataFrame(cm , index = [i for i in encoder.categories_] , columns = [i for i in encoder.categories_])\n",
    "sns.heatmap(cm, linecolor='white', cmap='Blues', linewidth=1, annot=True, fmt='')\n",
    "plt.title('Confusion Matrix', size=20)\n",
    "plt.xlabel('Predicted Labels', size=14)\n",
    "plt.ylabel('Actual Labels', size=14)\n",
    "plt.show()"
   ]
  },
  {
   "cell_type": "code",
   "execution_count": 109,
   "id": "d7422008",
   "metadata": {},
   "outputs": [
    {
     "name": "stdout",
     "output_type": "stream",
     "text": [
      "              precision    recall  f1-score   support\n",
      "\n",
      "       angry       0.83      0.91      0.87       163\n",
      "     disgust       0.73      0.90      0.80       163\n",
      "        fear       0.92      0.77      0.84       163\n",
      "       happy       0.86      0.80      0.83       163\n",
      "     neutral       0.84      0.92      0.88       154\n",
      "         sad       0.91      0.84      0.88       163\n",
      "   surprised       0.96      0.87      0.91       163\n",
      "\n",
      "    accuracy                           0.86      1132\n",
      "   macro avg       0.86      0.86      0.86      1132\n",
      "weighted avg       0.87      0.86      0.86      1132\n",
      "\n"
     ]
    }
   ],
   "source": [
    "print(classification_report(y_test, y_pred))"
   ]
  },
  {
   "cell_type": "markdown",
   "id": "5dd52794",
   "metadata": {},
   "source": [
    "## 7. SUMMARY"
   ]
  },
  {
   "cell_type": "code",
   "execution_count": null,
   "id": "b2e2f162",
   "metadata": {},
   "outputs": [],
   "source": []
  }
 ],
 "metadata": {
  "kernelspec": {
   "display_name": "Python 3",
   "language": "python",
   "name": "python3"
  },
  "language_info": {
   "codemirror_mode": {
    "name": "ipython",
    "version": 3
   },
   "file_extension": ".py",
   "mimetype": "text/x-python",
   "name": "python",
   "nbconvert_exporter": "python",
   "pygments_lexer": "ipython3",
   "version": "3.8.8"
  }
 },
 "nbformat": 4,
 "nbformat_minor": 5
}
