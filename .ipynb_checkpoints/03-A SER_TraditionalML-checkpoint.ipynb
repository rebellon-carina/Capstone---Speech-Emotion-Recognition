{
 "cells": [
  {
   "cell_type": "markdown",
   "id": "96a49311",
   "metadata": {},
   "source": [
    "# Traditional ML\n",
    "\n",
    "Using the csv files we generated from the \"02 VoiceSentiment-Feature_Extraction\", we will build models using the “traditional” machine learning  to be used as baseline when we build our deep learning model. \n",
    "\n",
    "1. Load our train and test dataset\n",
    "2. Base Model\n",
    "3. Define X and Y\n",
    "4. Need to scale the data before we build our models\n",
    "5. Building Models\n",
    "    - 5.1 MLP\n",
    "    - 5.2 RandomForest\n",
    "    - 5.3 Logistic Regression\n",
    "    - 5.4 VotingClassifier\n",
    "6. Metrics\n",
    "7. Summary"
   ]
  },
  {
   "cell_type": "code",
   "execution_count": 1,
   "id": "d70b0b63",
   "metadata": {},
   "outputs": [],
   "source": [
    "#import packages\n",
    "import numpy as np\n",
    "import matplotlib.pyplot as plt\n",
    "import pandas as pd\n",
    "import seaborn as sns\n",
    "\n",
    "from sklearn.ensemble import RandomForestClassifier\n",
    "from sklearn.linear_model import LogisticRegression\n",
    "from sklearn.neural_network import MLPClassifier\n",
    "from sklearn.ensemble import VotingClassifier\n",
    "\n",
    "from sklearn.preprocessing import StandardScaler, OneHotEncoder\n",
    "from sklearn.metrics import confusion_matrix, classification_report\n",
    "from sklearn.model_selection import train_test_split,StratifiedKFold, cross_val_score\n",
    "\n",
    "from datetime import datetime\n",
    "\n",
    "import optuna\n",
    "import joblib\n",
    "\n",
    "#for Audio processing\n",
    "from IPython.display import Audio\n",
    "import librosa\n",
    "import librosa.display"
   ]
  },
  {
   "cell_type": "markdown",
   "id": "fb127e0b",
   "metadata": {},
   "source": [
    "### 1. Load our train and test dataset"
   ]
  },
  {
   "cell_type": "code",
   "execution_count": 2,
   "id": "80320fb3",
   "metadata": {},
   "outputs": [],
   "source": [
    "#load the data\n",
    "df_train = pd.read_csv(\"./dataset/train.csv\")\n",
    "df_test = pd.read_csv(\"./dataset/test.csv\")\n",
    "\n",
    "#remove the index column\n",
    "df_train = df_train.drop(columns='Unnamed: 0')\n",
    "df_test = df_test.drop(columns='Unnamed: 0')"
   ]
  },
  {
   "cell_type": "code",
   "execution_count": 3,
   "id": "277ab88f",
   "metadata": {},
   "outputs": [
    {
     "data": {
      "text/plain": [
       "(10188, 186)"
      ]
     },
     "execution_count": 3,
     "metadata": {},
     "output_type": "execute_result"
    }
   ],
   "source": [
    "df_train.shape"
   ]
  },
  {
   "cell_type": "code",
   "execution_count": 4,
   "id": "99402ca9",
   "metadata": {},
   "outputs": [
    {
     "data": {
      "text/plain": [
       "(1132, 186)"
      ]
     },
     "execution_count": 4,
     "metadata": {},
     "output_type": "execute_result"
    }
   ],
   "source": [
    "df_test.shape"
   ]
  },
  {
   "cell_type": "markdown",
   "id": "7cca7819",
   "metadata": {},
   "source": [
    "## 2. Base Model"
   ]
  },
  {
   "cell_type": "code",
   "execution_count": 5,
   "id": "eb022982",
   "metadata": {},
   "outputs": [
    {
     "data": {
      "text/plain": [
       "disgust      0.143993\n",
       "fear         0.143993\n",
       "happy        0.143993\n",
       "sad          0.143993\n",
       "angry        0.143993\n",
       "surprised    0.143993\n",
       "neutral      0.136042\n",
       "Name: label, dtype: float64"
      ]
     },
     "execution_count": 5,
     "metadata": {},
     "output_type": "execute_result"
    }
   ],
   "source": [
    "df_test[\"label\"].value_counts(normalize=True)"
   ]
  },
  {
   "cell_type": "code",
   "execution_count": 6,
   "id": "53559e43",
   "metadata": {},
   "outputs": [
    {
     "data": {
      "text/plain": [
       "fear         0.143993\n",
       "happy        0.143993\n",
       "surprised    0.143993\n",
       "sad          0.143993\n",
       "angry        0.143993\n",
       "disgust      0.143993\n",
       "neutral      0.136042\n",
       "Name: label, dtype: float64"
      ]
     },
     "execution_count": 6,
     "metadata": {},
     "output_type": "execute_result"
    }
   ],
   "source": [
    "df_train[\"label\"].value_counts(normalize=True)"
   ]
  },
  {
   "cell_type": "markdown",
   "id": "559af292",
   "metadata": {},
   "source": [
    "## Base Model is around 14%"
   ]
  },
  {
   "cell_type": "markdown",
   "id": "a4176699",
   "metadata": {},
   "source": [
    "### 3. Define X and Y"
   ]
  },
  {
   "cell_type": "code",
   "execution_count": 7,
   "id": "c7c3edd1",
   "metadata": {},
   "outputs": [],
   "source": [
    "#converting categorical labels to numeric for test dataset\n",
    "factor_test = pd.factorize(df_test['label'], sort=True)\n",
    "df_test['label'] = factor_test[0]   "
   ]
  },
  {
   "cell_type": "code",
   "execution_count": 8,
   "id": "b35702d1",
   "metadata": {},
   "outputs": [],
   "source": [
    "#converting categorical labels to numeric for train dataset\n",
    "factor_train= pd.factorize(df_train['label'], sort=True)\n",
    "df_train['label'] = factor_train[0]   "
   ]
  },
  {
   "cell_type": "code",
   "execution_count": 9,
   "id": "a692b14f",
   "metadata": {},
   "outputs": [],
   "source": [
    "#since we already split our data to train and test in the prior notebook, we will just assign the values accordingly\n",
    "X_train = df_train.drop(columns=[\"label\", \"file\"])\n",
    "y_train = df_train[\"label\"]\n",
    "\n",
    "X_test = df_test.drop(columns=[\"label\", \"file\"])\n",
    "y_test = df_test[\"label\"]"
   ]
  },
  {
   "cell_type": "markdown",
   "id": "7d668aec",
   "metadata": {},
   "source": [
    "### 4. Need to scale the data before we build our models"
   ]
  },
  {
   "cell_type": "code",
   "execution_count": 10,
   "id": "aaad8d17",
   "metadata": {},
   "outputs": [],
   "source": [
    "# scaling our data with sklearn's Standard scaler\n",
    "scaler = StandardScaler()\n",
    "X_train_scaled = scaler.fit_transform(X_train)\n",
    "X_test_scaled = scaler.transform(X_test)"
   ]
  },
  {
   "cell_type": "code",
   "execution_count": 11,
   "id": "d368e99f",
   "metadata": {},
   "outputs": [],
   "source": [
    "def build_model(name, model):\n",
    "    \n",
    "    models[name] = {}\n",
    "    \n",
    "    now = datetime.now()\n",
    "    current_time = now.strftime(\"%H:%M:%S\")\n",
    "    print(f\"Model Fitting.. {name} Current Time = {current_time}\")\n",
    "        \n",
    "    model.fit(X_train_scaled, y_train)\n",
    "    \n",
    "    \n",
    "    models[name][\"train_score\"] = model.score(X_train_scaled, y_train)\n",
    "    models[name][\"test_score\"] = model.score(X_test_scaled, y_test)\n",
    "    models[name][\"model\"] = model\n",
    "\n",
    "    y_pred = model.predict(X_test_scaled)\n",
    "    \n",
    "    print(classification_report(y_test, y_pred))\n",
    "    \n",
    "    cm = confusion_matrix(y_test, y_pred)\n",
    "    plt.figure(figsize = (10, 5))\n",
    "    cm = pd.DataFrame(cm , index = [i for i in factor_test[1]] , columns = [i for i in factor_test[1]])\n",
    "    sns.heatmap(cm, linecolor='white', cmap='Blues', linewidth=1, annot=True, fmt='')\n",
    "\n",
    "    plt.title('Confusion Matrix', size=20)\n",
    "    plt.xlabel('Predicted Labels', size=14)\n",
    "    plt.ylabel('Actual Labels', size=14)\n",
    "    plt.show()\n",
    "\n",
    "    now = datetime.now()\n",
    "    current_time = now.strftime(\"%H:%M:%S\")\n",
    "    print(f\"Model Completion.. {name} Current Time = {current_time}\")\n",
    "    \n",
    "    return model"
   ]
  },
  {
   "cell_type": "markdown",
   "id": "07cdb2a3",
   "metadata": {},
   "source": [
    "### 5. Building Models\n",
    "\n",
    "***BEST PARAMETERS obtained by using OPTUNA***"
   ]
  },
  {
   "cell_type": "code",
   "execution_count": 12,
   "id": "f57cb8e7",
   "metadata": {},
   "outputs": [],
   "source": [
    "models = {}"
   ]
  },
  {
   "cell_type": "code",
   "execution_count": 13,
   "id": "3fe433b3",
   "metadata": {},
   "outputs": [
    {
     "name": "stdout",
     "output_type": "stream",
     "text": [
      "Model Fitting.. mlp Current Time = 07:53:29\n",
      "              precision    recall  f1-score   support\n",
      "\n",
      "           0       0.87      0.85      0.86       163\n",
      "           1       0.87      0.84      0.86       163\n",
      "           2       0.84      0.84      0.84       163\n",
      "           3       0.85      0.85      0.85       163\n",
      "           4       0.87      0.92      0.89       154\n",
      "           5       0.80      0.82      0.81       163\n",
      "           6       0.90      0.90      0.90       163\n",
      "\n",
      "    accuracy                           0.86      1132\n",
      "   macro avg       0.86      0.86      0.86      1132\n",
      "weighted avg       0.86      0.86      0.86      1132\n",
      "\n"
     ]
    },
    {
     "data": {
      "image/png": "[encoded data removed]",
      "text/plain": [
       "<Figure size 720x360 with 2 Axes>"
      ]
     },
     "metadata": {
      "needs_background": "light"
     },
     "output_type": "display_data"
    },
    {
     "name": "stdout",
     "output_type": "stream",
     "text": [
      "Model Completion.. mlp Current Time = 08:25:29\n"
     ]
    },
    {
     "data": {
      "text/plain": [
       "MLPClassifier(alpha=0.255, batch_size=200, hidden_layer_sizes=1200,\n",
       "              max_iter=10000, solver='sgd')"
      ]
     },
     "execution_count": 13,
     "metadata": {},
     "output_type": "execute_result"
    }
   ],
   "source": [
    "## 5.1 Multi-layer Perceptron classifier.\n",
    "\n",
    "##Optuna\n",
    "#Trial 8 finished with value: 0.8530609147840515 and \n",
    "#    parameters: {'activation': 'logistic', 'solver': 'lbfgs', 'hidden_layer_sizes': 880, \n",
    "#                 'alpha': 0.3768510253499107, 'batch_size': 300, 'learning_rate': 'invscaling'}. \n",
    "#        Best is trial 8 with value: 0.8530609147840515.\n",
    "            \n",
    "mlp = MLPClassifier(activation= 'logistic', #'relu', \n",
    "              solver= 'lbfgs', #'sgd', \n",
    "              hidden_layer_sizes= 880, #1200,\n",
    "              alpha= 0.376851 #0.255, \n",
    "              batch_size= 300, #200, \n",
    "              learning_rate= 'invscaling', #'constant',\n",
    "              max_iter=10000,\n",
    "             ,random_state= 0)\n",
    "build_model('mlp', mlp)\n",
    "\n",
    "#previous score\n",
    "#mlp 'test_score': 0.857773851590106"
   ]
  },
  {
   "cell_type": "code",
   "execution_count": 14,
   "id": "388c8db4",
   "metadata": {},
   "outputs": [
    {
     "name": "stdout",
     "output_type": "stream",
     "text": [
      "Model Fitting.. rf Current Time = 08:25:29\n",
      "              precision    recall  f1-score   support\n",
      "\n",
      "           0       0.87      0.87      0.87       163\n",
      "           1       0.73      0.83      0.78       163\n",
      "           2       0.91      0.79      0.85       163\n",
      "           3       0.88      0.75      0.81       163\n",
      "           4       0.85      0.92      0.88       154\n",
      "           5       0.84      0.78      0.81       163\n",
      "           6       0.80      0.90      0.85       163\n",
      "\n",
      "    accuracy                           0.83      1132\n",
      "   macro avg       0.84      0.84      0.84      1132\n",
      "weighted avg       0.84      0.83      0.83      1132\n",
      "\n"
     ]
    },
    {
     "data": {
      "image/png": "[encoded data removed]",
      "text/plain": [
       "<Figure size 720x360 with 2 Axes>"
      ]
     },
     "metadata": {
      "needs_background": "light"
     },
     "output_type": "display_data"
    },
    {
     "name": "stdout",
     "output_type": "stream",
     "text": [
      "Model Completion.. rf Current Time = 08:38:32\n"
     ]
    }
   ],
   "source": [
    "## 5.2 Random Forest\n",
    "\n",
    "rf = RandomForestClassifier(n_estimators= 650\n",
    "                            , max_depth= 85\n",
    "                            , criterion= 'entropy'\n",
    "                            ,random_state= 0)\n",
    "rf = build_model('rf', rf)"
   ]
  },
  {
   "cell_type": "code",
   "execution_count": 15,
   "id": "b4ad7ec5",
   "metadata": {},
   "outputs": [
    {
     "name": "stdout",
     "output_type": "stream",
     "text": [
      "Model Fitting.. lr Current Time = 08:38:32\n",
      "              precision    recall  f1-score   support\n",
      "\n",
      "           0       0.78      0.75      0.77       163\n",
      "           1       0.73      0.71      0.72       163\n",
      "           2       0.74      0.74      0.74       163\n",
      "           3       0.71      0.66      0.68       163\n",
      "           4       0.81      0.81      0.81       154\n",
      "           5       0.72      0.75      0.74       163\n",
      "           6       0.70      0.77      0.73       163\n",
      "\n",
      "    accuracy                           0.74      1132\n",
      "   macro avg       0.74      0.74      0.74      1132\n",
      "weighted avg       0.74      0.74      0.74      1132\n",
      "\n"
     ]
    },
    {
     "data": {
      "image/png": "[encoded data removed]",
      "text/plain": [
       "<Figure size 720x360 with 2 Axes>"
      ]
     },
     "metadata": {
      "needs_background": "light"
     },
     "output_type": "display_data"
    },
    {
     "name": "stdout",
     "output_type": "stream",
     "text": [
      "Model Completion.. lr Current Time = 08:44:32\n"
     ]
    }
   ],
   "source": [
    "## 5.3 Logistic Regression\n",
    "\n",
    "lr = LogisticRegression(multi_class = 'multinomial'\n",
    "                        , penalty = 'l2'\n",
    "                        ,solver = 'saga'\n",
    "                        , max_iter= 10000\n",
    "                        ,random_state= 0)\n",
    "\n",
    "lr = build_model(\"lr\", lr)"
   ]
  },
  {
   "cell_type": "code",
   "execution_count": 16,
   "id": "612349ab",
   "metadata": {},
   "outputs": [
    {
     "name": "stdout",
     "output_type": "stream",
     "text": [
      "Model Fitting.. vc Current Time = 08:44:32\n",
      "              precision    recall  f1-score   support\n",
      "\n",
      "           0       0.89      0.86      0.87       163\n",
      "           1       0.85      0.86      0.86       163\n",
      "           2       0.84      0.85      0.84       163\n",
      "           3       0.87      0.83      0.85       163\n",
      "           4       0.88      0.92      0.90       154\n",
      "           5       0.79      0.83      0.81       163\n",
      "           6       0.92      0.90      0.91       163\n",
      "\n",
      "    accuracy                           0.86      1132\n",
      "   macro avg       0.86      0.86      0.86      1132\n",
      "weighted avg       0.86      0.86      0.86      1132\n",
      "\n"
     ]
    },
    {
     "data": {
      "image/png": "[encoded data removed]",
      "text/plain": [
       "<Figure size 720x360 with 2 Axes>"
      ]
     },
     "metadata": {
      "needs_background": "light"
     },
     "output_type": "display_data"
    },
    {
     "name": "stdout",
     "output_type": "stream",
     "text": [
      "Model Completion.. vc Current Time = 09:24:54\n"
     ]
    }
   ],
   "source": [
    "## 5.4 Voting Classifier\n",
    "\n",
    "\n",
    "vote = VotingClassifier([\n",
    "    ('mlp', MLPClassifier(activation= 'relu', \n",
    "              solver= 'sgd', \n",
    "              hidden_layer_sizes= 1200, \n",
    "              alpha= 0.7999 #0.255, \n",
    "              batch_size= 188, #200, \n",
    "              learning_rate= 'adaptive', #'constant',\n",
    "              max_iter=10000,\n",
    "                ,random_state= 0)),\n",
    "    ('rf', RandomForestClassifier(max_depth = 85\n",
    "                                  ,n_estimators = 650\n",
    "                                  ,random_state= 0))\n",
    "    ], voting=\"soft\")\n",
    "\n",
    "vote = build_model(\"vc\", vote)"
   ]
  },
  {
   "cell_type": "code",
   "execution_count": 17,
   "id": "8ecb3304",
   "metadata": {},
   "outputs": [
    {
     "data": {
      "text/plain": [
       "{'mlp': {'train_score': 0.9690812720848057,\n",
       "  'test_score': 0.857773851590106,\n",
       "  'model': MLPClassifier(alpha=0.255, batch_size=200, hidden_layer_sizes=1200,\n",
       "                max_iter=10000, solver='sgd')},\n",
       " 'rf': {'train_score': 1.0,\n",
       "  'test_score': 0.8348056537102474,\n",
       "  'model': RandomForestClassifier(criterion='entropy', max_depth=85, n_estimators=650)},\n",
       " 'lr': {'train_score': 0.7921083627797408,\n",
       "  'test_score': 0.7420494699646644,\n",
       "  'model': LogisticRegression(max_iter=10000, multi_class='multinomial', solver='saga')},\n",
       " 'vc': {'train_score': 0.9999018453082057,\n",
       "  'test_score': 0.8621908127208481,\n",
       "  'model': VotingClassifier(estimators=[('mlp',\n",
       "                                MLPClassifier(alpha=0.255, batch_size=200,\n",
       "                                              hidden_layer_sizes=1200,\n",
       "                                              max_iter=10000, solver='sgd')),\n",
       "                               ('rf',\n",
       "                                RandomForestClassifier(max_depth=85,\n",
       "                                                       n_estimators=650,\n",
       "                                                       random_state=0))],\n",
       "                   voting='soft')}}"
      ]
     },
     "execution_count": 17,
     "metadata": {},
     "output_type": "execute_result"
    }
   ],
   "source": [
    "models\n",
    "\n",
    "#previous score\n",
    "#mlp 'test_score': 0.857773851590106\n",
    "#rf 'test_score': 0.8348056537102474\n",
    "#vc 'test_score': 0.8621908127208481"
   ]
  },
  {
   "cell_type": "markdown",
   "id": "97de0615",
   "metadata": {},
   "source": [
    "### 6. Metrics"
   ]
  },
  {
   "cell_type": "code",
   "execution_count": 18,
   "id": "45841fd2",
   "metadata": {},
   "outputs": [
    {
     "data": {
      "text/html": [
       "<div>\n",
       "<style scoped>\n",
       "    .dataframe tbody tr th:only-of-type {\n",
       "        vertical-align: middle;\n",
       "    }\n",
       "\n",
       "    .dataframe tbody tr th {\n",
       "        vertical-align: top;\n",
       "    }\n",
       "\n",
       "    .dataframe thead th {\n",
       "        text-align: right;\n",
       "    }\n",
       "</style>\n",
       "<table border=\"1\" class=\"dataframe\">\n",
       "  <thead>\n",
       "    <tr style=\"text-align: right;\">\n",
       "      <th></th>\n",
       "      <th>model</th>\n",
       "      <th>test_score</th>\n",
       "    </tr>\n",
       "  </thead>\n",
       "  <tbody>\n",
       "    <tr>\n",
       "      <th>0</th>\n",
       "      <td>mlp</td>\n",
       "      <td>0.857774</td>\n",
       "    </tr>\n",
       "    <tr>\n",
       "      <th>1</th>\n",
       "      <td>rf</td>\n",
       "      <td>0.834806</td>\n",
       "    </tr>\n",
       "    <tr>\n",
       "      <th>2</th>\n",
       "      <td>lr</td>\n",
       "      <td>0.742049</td>\n",
       "    </tr>\n",
       "    <tr>\n",
       "      <th>3</th>\n",
       "      <td>vc</td>\n",
       "      <td>0.862191</td>\n",
       "    </tr>\n",
       "  </tbody>\n",
       "</table>\n",
       "</div>"
      ],
      "text/plain": [
       "  model  test_score\n",
       "0   mlp    0.857774\n",
       "1    rf    0.834806\n",
       "2    lr    0.742049\n",
       "3    vc    0.862191"
      ]
     },
     "execution_count": 18,
     "metadata": {},
     "output_type": "execute_result"
    }
   ],
   "source": [
    "score_list = []\n",
    "\n",
    "for model in models:\n",
    "        dic = {\"model\": model,\n",
    "                \"test_score\": models[model][\"test_score\"]\n",
    "        }\n",
    "        score_list.append(dic)\n",
    "df_score = pd.DataFrame(score_list)\n",
    "df_score"
   ]
  },
  {
   "cell_type": "code",
   "execution_count": 19,
   "id": "185bc1b2",
   "metadata": {},
   "outputs": [
    {
     "data": {
      "image/png": "[encoded data removed]",
      "text/plain": [
       "<Figure size 720x360 with 1 Axes>"
      ]
     },
     "metadata": {
      "needs_background": "light"
     },
     "output_type": "display_data"
    }
   ],
   "source": [
    "df_score = df_score.sort_values(by=\"test_score\")\n",
    "\n",
    "fig = plt.figure(figsize=(10,5))\n",
    "ax = fig.add_subplot(111)\n",
    "sns.lineplot(data=df_score, x='model', y='test_score', ax=ax, marker='X');\n",
    "\n",
    "plt.title(\"Classification Models by Accuracy(Test Score)\", fontsize=12)\n",
    "#plt.ylim(0,0.9)\n",
    "ax.spines[\"top\"].set_visible(False)  \n",
    "ax.spines[\"right\"].set_visible(False) "
   ]
  },
  {
   "cell_type": "markdown",
   "id": "509f5f71",
   "metadata": {},
   "source": [
    "### Save the best model for future prediction -- Voting Classifier !"
   ]
  },
  {
   "cell_type": "code",
   "execution_count": 20,
   "id": "00bbbb0c",
   "metadata": {},
   "outputs": [
    {
     "data": {
      "text/plain": [
       "['./model/cv_std_scaler.bin']"
      ]
     },
     "execution_count": 20,
     "metadata": {},
     "output_type": "execute_result"
    }
   ],
   "source": [
    "#save the model\n",
    "joblib.dump(models['vc']['model'], './model/cv_ser_model.bin', compress=True)\n",
    "\n",
    "#save the scaler\n",
    "joblib.dump(scaler, './model/cv_std_scaler.bin', compress=True)"
   ]
  },
  {
   "cell_type": "markdown",
   "id": "18a3a1a9",
   "metadata": {},
   "source": [
    "### Checking missclassified emotions"
   ]
  },
  {
   "cell_type": "code",
   "execution_count": 21,
   "id": "d87fcb99",
   "metadata": {},
   "outputs": [],
   "source": [
    " y_pred = models['vc']['model'].predict(X_test_scaled)"
   ]
  },
  {
   "cell_type": "code",
   "execution_count": 22,
   "id": "1cac73d5",
   "metadata": {},
   "outputs": [],
   "source": [
    "df_test[\"predict\"] = y_pred"
   ]
  },
  {
   "cell_type": "code",
   "execution_count": 23,
   "id": "893cb01d",
   "metadata": {},
   "outputs": [
    {
     "data": {
      "text/html": [
       "<div>\n",
       "<style scoped>\n",
       "    .dataframe tbody tr th:only-of-type {\n",
       "        vertical-align: middle;\n",
       "    }\n",
       "\n",
       "    .dataframe tbody tr th {\n",
       "        vertical-align: top;\n",
       "    }\n",
       "\n",
       "    .dataframe thead th {\n",
       "        text-align: right;\n",
       "    }\n",
       "</style>\n",
       "<table border=\"1\" class=\"dataframe\">\n",
       "  <thead>\n",
       "    <tr style=\"text-align: right;\">\n",
       "      <th></th>\n",
       "      <th>index</th>\n",
       "      <th>file</th>\n",
       "      <th>label</th>\n",
       "      <th>predict</th>\n",
       "    </tr>\n",
       "  </thead>\n",
       "  <tbody>\n",
       "    <tr>\n",
       "      <th>151</th>\n",
       "      <td>1105</td>\n",
       "      <td>./raw_source/Savee/KL/n21.wav</td>\n",
       "      <td>4</td>\n",
       "      <td>1</td>\n",
       "    </tr>\n",
       "    <tr>\n",
       "      <th>152</th>\n",
       "      <td>1106</td>\n",
       "      <td>./raw_source/Savee/JK/a02.wav</td>\n",
       "      <td>0</td>\n",
       "      <td>3</td>\n",
       "    </tr>\n",
       "    <tr>\n",
       "      <th>153</th>\n",
       "      <td>1112</td>\n",
       "      <td>./raw_source/RAVDESS/Actor_01/03-01-08-02-01-0...</td>\n",
       "      <td>6</td>\n",
       "      <td>3</td>\n",
       "    </tr>\n",
       "    <tr>\n",
       "      <th>154</th>\n",
       "      <td>1120</td>\n",
       "      <td>./raw_source/RAVDESS/Actor_24/03-01-07-01-02-0...</td>\n",
       "      <td>1</td>\n",
       "      <td>0</td>\n",
       "    </tr>\n",
       "    <tr>\n",
       "      <th>155</th>\n",
       "      <td>1122</td>\n",
       "      <td>./raw_source/RAVDESS/Actor_03/03-01-06-01-02-0...</td>\n",
       "      <td>2</td>\n",
       "      <td>5</td>\n",
       "    </tr>\n",
       "  </tbody>\n",
       "</table>\n",
       "</div>"
      ],
      "text/plain": [
       "     index                                               file  label  predict\n",
       "151   1105                      ./raw_source/Savee/KL/n21.wav      4        1\n",
       "152   1106                      ./raw_source/Savee/JK/a02.wav      0        3\n",
       "153   1112  ./raw_source/RAVDESS/Actor_01/03-01-08-02-01-0...      6        3\n",
       "154   1120  ./raw_source/RAVDESS/Actor_24/03-01-07-01-02-0...      1        0\n",
       "155   1122  ./raw_source/RAVDESS/Actor_03/03-01-06-01-02-0...      2        5"
      ]
     },
     "execution_count": 23,
     "metadata": {},
     "output_type": "execute_result"
    }
   ],
   "source": [
    "df_miss = df_test[df_test[\"label\"] != df_test[\"predict\"]][[\"file\",\"label\", \"predict\"]]\n",
    "df_miss = df_miss.reset_index()\n",
    "df_miss.tail()\n"
   ]
  },
  {
   "cell_type": "code",
   "execution_count": 24,
   "id": "c7cf728c",
   "metadata": {},
   "outputs": [],
   "source": [
    "def play_librosa(wav_file, source='None'):\n",
    "    \n",
    "    print(\"WAV: \", wav_file)\n",
    "    \n",
    "    audio, sfreq = librosa.load(wav_file)\n",
    "    time = np.arange(0, len(audio)) / sfreq\n",
    "\n",
    "    print('Sample Rate:', sfreq)\n",
    "    \n",
    "    fig, ax = plt.subplots()\n",
    "    ax.plot(time, audio)\n",
    "    ax.set(xlabel='Time (sec)',  ylabel='Sound Amplitude')\n",
    "\n",
    "    return Audio(data=audio, rate=sfreq)"
   ]
  },
  {
   "cell_type": "code",
   "execution_count": 25,
   "id": "ee3f3b0f",
   "metadata": {},
   "outputs": [
    {
     "name": "stdout",
     "output_type": "stream",
     "text": [
      "Actual is surprised Predicted as happy\n",
      "WAV:  ./raw_source/RAVDESS/Actor_23/03-01-08-01-01-02-23.wav\n"
     ]
    },
    {
     "name": "stderr",
     "output_type": "stream",
     "text": [
      "/opt/anaconda3/lib/python3.8/site-packages/librosa/util/decorators.py:88: UserWarning: PySoundFile failed. Trying audioread instead.\n",
      "  return f(*args, **kwargs)\n"
     ]
    },
    {
     "ename": "FileNotFoundError",
     "evalue": "[Errno 2] No such file or directory: './raw_source/RAVDESS/Actor_23/03-01-08-01-01-02-23.wav'",
     "output_type": "error",
     "traceback": [
      "\u001b[0;31m---------------------------------------------------------------------------\u001b[0m",
      "\u001b[0;31mRuntimeError\u001b[0m                              Traceback (most recent call last)",
      "\u001b[0;32m/opt/anaconda3/lib/python3.8/site-packages/librosa/core/audio.py\u001b[0m in \u001b[0;36mload\u001b[0;34m(path, sr, mono, offset, duration, dtype, res_type)\u001b[0m\n\u001b[1;32m    154\u001b[0m             \u001b[0;31m# Otherwise, create the soundfile object\u001b[0m\u001b[0;34m\u001b[0m\u001b[0;34m\u001b[0m\u001b[0;34m\u001b[0m\u001b[0m\n\u001b[0;32m--> 155\u001b[0;31m             \u001b[0mcontext\u001b[0m \u001b[0;34m=\u001b[0m \u001b[0msf\u001b[0m\u001b[0;34m.\u001b[0m\u001b[0mSoundFile\u001b[0m\u001b[0;34m(\u001b[0m\u001b[0mpath\u001b[0m\u001b[0;34m)\u001b[0m\u001b[0;34m\u001b[0m\u001b[0;34m\u001b[0m\u001b[0m\n\u001b[0m\u001b[1;32m    156\u001b[0m \u001b[0;34m\u001b[0m\u001b[0m\n",
      "\u001b[0;32m/opt/anaconda3/lib/python3.8/site-packages/soundfile.py\u001b[0m in \u001b[0;36m__init__\u001b[0;34m(self, file, mode, samplerate, channels, subtype, endian, format, closefd)\u001b[0m\n\u001b[1;32m    628\u001b[0m                                          format, subtype, endian)\n\u001b[0;32m--> 629\u001b[0;31m         \u001b[0mself\u001b[0m\u001b[0;34m.\u001b[0m\u001b[0m_file\u001b[0m \u001b[0;34m=\u001b[0m \u001b[0mself\u001b[0m\u001b[0;34m.\u001b[0m\u001b[0m_open\u001b[0m\u001b[0;34m(\u001b[0m\u001b[0mfile\u001b[0m\u001b[0;34m,\u001b[0m \u001b[0mmode_int\u001b[0m\u001b[0;34m,\u001b[0m \u001b[0mclosefd\u001b[0m\u001b[0;34m)\u001b[0m\u001b[0;34m\u001b[0m\u001b[0;34m\u001b[0m\u001b[0m\n\u001b[0m\u001b[1;32m    630\u001b[0m         \u001b[0;32mif\u001b[0m \u001b[0mset\u001b[0m\u001b[0;34m(\u001b[0m\u001b[0mmode\u001b[0m\u001b[0;34m)\u001b[0m\u001b[0;34m.\u001b[0m\u001b[0missuperset\u001b[0m\u001b[0;34m(\u001b[0m\u001b[0;34m'r+'\u001b[0m\u001b[0;34m)\u001b[0m \u001b[0;32mand\u001b[0m \u001b[0mself\u001b[0m\u001b[0;34m.\u001b[0m\u001b[0mseekable\u001b[0m\u001b[0;34m(\u001b[0m\u001b[0;34m)\u001b[0m\u001b[0;34m:\u001b[0m\u001b[0;34m\u001b[0m\u001b[0;34m\u001b[0m\u001b[0m\n",
      "\u001b[0;32m/opt/anaconda3/lib/python3.8/site-packages/soundfile.py\u001b[0m in \u001b[0;36m_open\u001b[0;34m(self, file, mode_int, closefd)\u001b[0m\n\u001b[1;32m   1182\u001b[0m             \u001b[0;32mraise\u001b[0m \u001b[0mTypeError\u001b[0m\u001b[0;34m(\u001b[0m\u001b[0;34m\"Invalid file: {0!r}\"\u001b[0m\u001b[0;34m.\u001b[0m\u001b[0mformat\u001b[0m\u001b[0;34m(\u001b[0m\u001b[0mself\u001b[0m\u001b[0;34m.\u001b[0m\u001b[0mname\u001b[0m\u001b[0;34m)\u001b[0m\u001b[0;34m)\u001b[0m\u001b[0;34m\u001b[0m\u001b[0;34m\u001b[0m\u001b[0m\n\u001b[0;32m-> 1183\u001b[0;31m         _error_check(_snd.sf_error(file_ptr),\n\u001b[0m\u001b[1;32m   1184\u001b[0m                      \"Error opening {0!r}: \".format(self.name))\n",
      "\u001b[0;32m/opt/anaconda3/lib/python3.8/site-packages/soundfile.py\u001b[0m in \u001b[0;36m_error_check\u001b[0;34m(err, prefix)\u001b[0m\n\u001b[1;32m   1356\u001b[0m         \u001b[0merr_str\u001b[0m \u001b[0;34m=\u001b[0m \u001b[0m_snd\u001b[0m\u001b[0;34m.\u001b[0m\u001b[0msf_error_number\u001b[0m\u001b[0;34m(\u001b[0m\u001b[0merr\u001b[0m\u001b[0;34m)\u001b[0m\u001b[0;34m\u001b[0m\u001b[0;34m\u001b[0m\u001b[0m\n\u001b[0;32m-> 1357\u001b[0;31m         \u001b[0;32mraise\u001b[0m \u001b[0mRuntimeError\u001b[0m\u001b[0;34m(\u001b[0m\u001b[0mprefix\u001b[0m \u001b[0;34m+\u001b[0m \u001b[0m_ffi\u001b[0m\u001b[0;34m.\u001b[0m\u001b[0mstring\u001b[0m\u001b[0;34m(\u001b[0m\u001b[0merr_str\u001b[0m\u001b[0;34m)\u001b[0m\u001b[0;34m.\u001b[0m\u001b[0mdecode\u001b[0m\u001b[0;34m(\u001b[0m\u001b[0;34m'utf-8'\u001b[0m\u001b[0;34m,\u001b[0m \u001b[0;34m'replace'\u001b[0m\u001b[0;34m)\u001b[0m\u001b[0;34m)\u001b[0m\u001b[0;34m\u001b[0m\u001b[0;34m\u001b[0m\u001b[0m\n\u001b[0m\u001b[1;32m   1358\u001b[0m \u001b[0;34m\u001b[0m\u001b[0m\n",
      "\u001b[0;31mRuntimeError\u001b[0m: Error opening './raw_source/RAVDESS/Actor_23/03-01-08-01-01-02-23.wav': System error.",
      "\nDuring handling of the above exception, another exception occurred:\n",
      "\u001b[0;31mFileNotFoundError\u001b[0m                         Traceback (most recent call last)",
      "\u001b[0;32m<ipython-input-25-5a90921071c4>\u001b[0m in \u001b[0;36m<module>\u001b[0;34m\u001b[0m\n\u001b[1;32m      1\u001b[0m \u001b[0mprint\u001b[0m\u001b[0;34m(\u001b[0m\u001b[0;34mf'Actual is {factor_test[1][df_miss.iloc[140][\"label\"]]} Predicted as {factor_test[1][df_miss.iloc[140][\"predict\"]]}'\u001b[0m\u001b[0;34m)\u001b[0m\u001b[0;34m\u001b[0m\u001b[0;34m\u001b[0m\u001b[0m\n\u001b[0;32m----> 2\u001b[0;31m \u001b[0mplay_librosa\u001b[0m\u001b[0;34m(\u001b[0m\u001b[0mdf_miss\u001b[0m\u001b[0;34m.\u001b[0m\u001b[0miloc\u001b[0m\u001b[0;34m[\u001b[0m\u001b[0;36m140\u001b[0m\u001b[0;34m]\u001b[0m\u001b[0;34m[\u001b[0m\u001b[0;34m\"file\"\u001b[0m\u001b[0;34m]\u001b[0m\u001b[0;34m)\u001b[0m\u001b[0;34m\u001b[0m\u001b[0;34m\u001b[0m\u001b[0m\n\u001b[0m",
      "\u001b[0;32m<ipython-input-24-2dde66996803>\u001b[0m in \u001b[0;36mplay_librosa\u001b[0;34m(wav_file, source)\u001b[0m\n\u001b[1;32m      3\u001b[0m     \u001b[0mprint\u001b[0m\u001b[0;34m(\u001b[0m\u001b[0;34m\"WAV: \"\u001b[0m\u001b[0;34m,\u001b[0m \u001b[0mwav_file\u001b[0m\u001b[0;34m)\u001b[0m\u001b[0;34m\u001b[0m\u001b[0;34m\u001b[0m\u001b[0m\n\u001b[1;32m      4\u001b[0m \u001b[0;34m\u001b[0m\u001b[0m\n\u001b[0;32m----> 5\u001b[0;31m     \u001b[0maudio\u001b[0m\u001b[0;34m,\u001b[0m \u001b[0msfreq\u001b[0m \u001b[0;34m=\u001b[0m \u001b[0mlibrosa\u001b[0m\u001b[0;34m.\u001b[0m\u001b[0mload\u001b[0m\u001b[0;34m(\u001b[0m\u001b[0mwav_file\u001b[0m\u001b[0;34m)\u001b[0m\u001b[0;34m\u001b[0m\u001b[0;34m\u001b[0m\u001b[0m\n\u001b[0m\u001b[1;32m      6\u001b[0m     \u001b[0mtime\u001b[0m \u001b[0;34m=\u001b[0m \u001b[0mnp\u001b[0m\u001b[0;34m.\u001b[0m\u001b[0marange\u001b[0m\u001b[0;34m(\u001b[0m\u001b[0;36m0\u001b[0m\u001b[0;34m,\u001b[0m \u001b[0mlen\u001b[0m\u001b[0;34m(\u001b[0m\u001b[0maudio\u001b[0m\u001b[0;34m)\u001b[0m\u001b[0;34m)\u001b[0m \u001b[0;34m/\u001b[0m \u001b[0msfreq\u001b[0m\u001b[0;34m\u001b[0m\u001b[0;34m\u001b[0m\u001b[0m\n\u001b[1;32m      7\u001b[0m \u001b[0;34m\u001b[0m\u001b[0m\n",
      "\u001b[0;32m/opt/anaconda3/lib/python3.8/site-packages/librosa/util/decorators.py\u001b[0m in \u001b[0;36minner_f\u001b[0;34m(*args, **kwargs)\u001b[0m\n\u001b[1;32m     86\u001b[0m             \u001b[0mextra_args\u001b[0m \u001b[0;34m=\u001b[0m \u001b[0mlen\u001b[0m\u001b[0;34m(\u001b[0m\u001b[0margs\u001b[0m\u001b[0;34m)\u001b[0m \u001b[0;34m-\u001b[0m \u001b[0mlen\u001b[0m\u001b[0;34m(\u001b[0m\u001b[0mall_args\u001b[0m\u001b[0;34m)\u001b[0m\u001b[0;34m\u001b[0m\u001b[0;34m\u001b[0m\u001b[0m\n\u001b[1;32m     87\u001b[0m             \u001b[0;32mif\u001b[0m \u001b[0mextra_args\u001b[0m \u001b[0;34m<=\u001b[0m \u001b[0;36m0\u001b[0m\u001b[0;34m:\u001b[0m\u001b[0;34m\u001b[0m\u001b[0;34m\u001b[0m\u001b[0m\n\u001b[0;32m---> 88\u001b[0;31m                 \u001b[0;32mreturn\u001b[0m \u001b[0mf\u001b[0m\u001b[0;34m(\u001b[0m\u001b[0;34m*\u001b[0m\u001b[0margs\u001b[0m\u001b[0;34m,\u001b[0m \u001b[0;34m**\u001b[0m\u001b[0mkwargs\u001b[0m\u001b[0;34m)\u001b[0m\u001b[0;34m\u001b[0m\u001b[0;34m\u001b[0m\u001b[0m\n\u001b[0m\u001b[1;32m     89\u001b[0m \u001b[0;34m\u001b[0m\u001b[0m\n\u001b[1;32m     90\u001b[0m             \u001b[0;31m# extra_args > 0\u001b[0m\u001b[0;34m\u001b[0m\u001b[0;34m\u001b[0m\u001b[0;34m\u001b[0m\u001b[0m\n",
      "\u001b[0;32m/opt/anaconda3/lib/python3.8/site-packages/librosa/core/audio.py\u001b[0m in \u001b[0;36mload\u001b[0;34m(path, sr, mono, offset, duration, dtype, res_type)\u001b[0m\n\u001b[1;32m    172\u001b[0m         \u001b[0;32mif\u001b[0m \u001b[0misinstance\u001b[0m\u001b[0;34m(\u001b[0m\u001b[0mpath\u001b[0m\u001b[0;34m,\u001b[0m \u001b[0;34m(\u001b[0m\u001b[0mstr\u001b[0m\u001b[0;34m,\u001b[0m \u001b[0mpathlib\u001b[0m\u001b[0;34m.\u001b[0m\u001b[0mPurePath\u001b[0m\u001b[0;34m)\u001b[0m\u001b[0;34m)\u001b[0m\u001b[0;34m:\u001b[0m\u001b[0;34m\u001b[0m\u001b[0;34m\u001b[0m\u001b[0m\n\u001b[1;32m    173\u001b[0m             \u001b[0mwarnings\u001b[0m\u001b[0;34m.\u001b[0m\u001b[0mwarn\u001b[0m\u001b[0;34m(\u001b[0m\u001b[0;34m\"PySoundFile failed. Trying audioread instead.\"\u001b[0m\u001b[0;34m,\u001b[0m \u001b[0mstacklevel\u001b[0m\u001b[0;34m=\u001b[0m\u001b[0;36m2\u001b[0m\u001b[0;34m)\u001b[0m\u001b[0;34m\u001b[0m\u001b[0;34m\u001b[0m\u001b[0m\n\u001b[0;32m--> 174\u001b[0;31m             \u001b[0my\u001b[0m\u001b[0;34m,\u001b[0m \u001b[0msr_native\u001b[0m \u001b[0;34m=\u001b[0m \u001b[0m__audioread_load\u001b[0m\u001b[0;34m(\u001b[0m\u001b[0mpath\u001b[0m\u001b[0;34m,\u001b[0m \u001b[0moffset\u001b[0m\u001b[0;34m,\u001b[0m \u001b[0mduration\u001b[0m\u001b[0;34m,\u001b[0m \u001b[0mdtype\u001b[0m\u001b[0;34m)\u001b[0m\u001b[0;34m\u001b[0m\u001b[0;34m\u001b[0m\u001b[0m\n\u001b[0m\u001b[1;32m    175\u001b[0m         \u001b[0;32melse\u001b[0m\u001b[0;34m:\u001b[0m\u001b[0;34m\u001b[0m\u001b[0;34m\u001b[0m\u001b[0m\n\u001b[1;32m    176\u001b[0m             \u001b[0;32mraise\u001b[0m \u001b[0;34m(\u001b[0m\u001b[0mexc\u001b[0m\u001b[0;34m)\u001b[0m\u001b[0;34m\u001b[0m\u001b[0;34m\u001b[0m\u001b[0m\n",
      "\u001b[0;32m/opt/anaconda3/lib/python3.8/site-packages/librosa/core/audio.py\u001b[0m in \u001b[0;36m__audioread_load\u001b[0;34m(path, offset, duration, dtype)\u001b[0m\n\u001b[1;32m    196\u001b[0m \u001b[0;34m\u001b[0m\u001b[0m\n\u001b[1;32m    197\u001b[0m     \u001b[0my\u001b[0m \u001b[0;34m=\u001b[0m \u001b[0;34m[\u001b[0m\u001b[0;34m]\u001b[0m\u001b[0;34m\u001b[0m\u001b[0;34m\u001b[0m\u001b[0m\n\u001b[0;32m--> 198\u001b[0;31m     \u001b[0;32mwith\u001b[0m \u001b[0maudioread\u001b[0m\u001b[0;34m.\u001b[0m\u001b[0maudio_open\u001b[0m\u001b[0;34m(\u001b[0m\u001b[0mpath\u001b[0m\u001b[0;34m)\u001b[0m \u001b[0;32mas\u001b[0m \u001b[0minput_file\u001b[0m\u001b[0;34m:\u001b[0m\u001b[0;34m\u001b[0m\u001b[0;34m\u001b[0m\u001b[0m\n\u001b[0m\u001b[1;32m    199\u001b[0m         \u001b[0msr_native\u001b[0m \u001b[0;34m=\u001b[0m \u001b[0minput_file\u001b[0m\u001b[0;34m.\u001b[0m\u001b[0msamplerate\u001b[0m\u001b[0;34m\u001b[0m\u001b[0;34m\u001b[0m\u001b[0m\n\u001b[1;32m    200\u001b[0m         \u001b[0mn_channels\u001b[0m \u001b[0;34m=\u001b[0m \u001b[0minput_file\u001b[0m\u001b[0;34m.\u001b[0m\u001b[0mchannels\u001b[0m\u001b[0;34m\u001b[0m\u001b[0;34m\u001b[0m\u001b[0m\n",
      "\u001b[0;32m/opt/anaconda3/lib/python3.8/site-packages/audioread/__init__.py\u001b[0m in \u001b[0;36maudio_open\u001b[0;34m(path, backends)\u001b[0m\n\u001b[1;32m    109\u001b[0m     \u001b[0;32mfor\u001b[0m \u001b[0mBackendClass\u001b[0m \u001b[0;32min\u001b[0m \u001b[0mbackends\u001b[0m\u001b[0;34m:\u001b[0m\u001b[0;34m\u001b[0m\u001b[0;34m\u001b[0m\u001b[0m\n\u001b[1;32m    110\u001b[0m         \u001b[0;32mtry\u001b[0m\u001b[0;34m:\u001b[0m\u001b[0;34m\u001b[0m\u001b[0;34m\u001b[0m\u001b[0m\n\u001b[0;32m--> 111\u001b[0;31m             \u001b[0;32mreturn\u001b[0m \u001b[0mBackendClass\u001b[0m\u001b[0;34m(\u001b[0m\u001b[0mpath\u001b[0m\u001b[0;34m)\u001b[0m\u001b[0;34m\u001b[0m\u001b[0;34m\u001b[0m\u001b[0m\n\u001b[0m\u001b[1;32m    112\u001b[0m         \u001b[0;32mexcept\u001b[0m \u001b[0mDecodeError\u001b[0m\u001b[0;34m:\u001b[0m\u001b[0;34m\u001b[0m\u001b[0;34m\u001b[0m\u001b[0m\n\u001b[1;32m    113\u001b[0m             \u001b[0;32mpass\u001b[0m\u001b[0;34m\u001b[0m\u001b[0;34m\u001b[0m\u001b[0m\n",
      "\u001b[0;32m/opt/anaconda3/lib/python3.8/site-packages/audioread/rawread.py\u001b[0m in \u001b[0;36m__init__\u001b[0;34m(self, filename)\u001b[0m\n\u001b[1;32m     60\u001b[0m     \"\"\"\n\u001b[1;32m     61\u001b[0m     \u001b[0;32mdef\u001b[0m \u001b[0m__init__\u001b[0m\u001b[0;34m(\u001b[0m\u001b[0mself\u001b[0m\u001b[0;34m,\u001b[0m \u001b[0mfilename\u001b[0m\u001b[0;34m)\u001b[0m\u001b[0;34m:\u001b[0m\u001b[0;34m\u001b[0m\u001b[0;34m\u001b[0m\u001b[0m\n\u001b[0;32m---> 62\u001b[0;31m         \u001b[0mself\u001b[0m\u001b[0;34m.\u001b[0m\u001b[0m_fh\u001b[0m \u001b[0;34m=\u001b[0m \u001b[0mopen\u001b[0m\u001b[0;34m(\u001b[0m\u001b[0mfilename\u001b[0m\u001b[0;34m,\u001b[0m \u001b[0;34m'rb'\u001b[0m\u001b[0;34m)\u001b[0m\u001b[0;34m\u001b[0m\u001b[0;34m\u001b[0m\u001b[0m\n\u001b[0m\u001b[1;32m     63\u001b[0m \u001b[0;34m\u001b[0m\u001b[0m\n\u001b[1;32m     64\u001b[0m         \u001b[0;32mtry\u001b[0m\u001b[0;34m:\u001b[0m\u001b[0;34m\u001b[0m\u001b[0;34m\u001b[0m\u001b[0m\n",
      "\u001b[0;31mFileNotFoundError\u001b[0m: [Errno 2] No such file or directory: './raw_source/RAVDESS/Actor_23/03-01-08-01-01-02-23.wav'"
     ]
    }
   ],
   "source": [
    "print(f'Actual is {factor_test[1][df_miss.iloc[140][\"label\"]]} Predicted as {factor_test[1][df_miss.iloc[140][\"predict\"]]}')\n",
    "play_librosa(df_miss.iloc[140][\"file\"])"
   ]
  },
  {
   "cell_type": "code",
   "execution_count": null,
   "id": "93186279",
   "metadata": {},
   "outputs": [],
   "source": [
    "print(f'Actual is {factor_test[1][df_miss.iloc[10][\"label\"]]} Predicted as {factor_test[1][df_miss.iloc[10][\"predict\"]]}')\n",
    "play_librosa(df_miss.iloc[10][\"file\"])"
   ]
  },
  {
   "cell_type": "code",
   "execution_count": null,
   "id": "a4b6935c",
   "metadata": {},
   "outputs": [],
   "source": [
    "print(f'Actual is {factor_test[1][df_miss.iloc[100][\"label\"]]} Predicted as {factor_test[1][df_miss.iloc[100][\"predict\"]]}')\n",
    "play_librosa(df_miss.iloc[100][\"file\"])"
   ]
  },
  {
   "cell_type": "markdown",
   "id": "5dd52794",
   "metadata": {},
   "source": [
    "## 7. SUMMARY"
   ]
  },
  {
   "cell_type": "markdown",
   "id": "0b21aa0a",
   "metadata": {},
   "source": [
    "VotingClassifier with soft voting, ensembling MLP and RandomForest has the highest accuracy of 87%. "
   ]
  },
  {
   "cell_type": "markdown",
   "id": "d0d5e94f",
   "metadata": {},
   "source": [
    "## OPTUNA.\n",
    "#### This ran for a long time and used to search for the best params using Optuna"
   ]
  },
  {
   "cell_type": "code",
   "execution_count": 26,
   "id": "b3a27f4d",
   "metadata": {},
   "outputs": [],
   "source": [
    "def objective_mlp(trial):\n",
    "\n",
    "    params = {\n",
    "        'activation': trial.suggest_categorical('activation', ['logistic', 'tanh', 'relu']),\n",
    "        'solver': trial.suggest_categorical('solver', ['lbfgs', 'sgd', 'adam']),\n",
    "        'hidden_layer_sizes':trial.suggest_int('hidden_layer_sizes', 100, 1500),\n",
    "        'alpha': trial.suggest_uniform('alpha', 0.001, 0.99),\n",
    "        'batch_size':trial.suggest_int('batch_size', 150, 300), \n",
    "        'learning_rate': trial.suggest_categorical('learning_rate', ['adaptive', 'constant', 'invscaling']),\n",
    "        'max_iter': 10000\n",
    "        }\n",
    "  \n",
    "    model = MLPClassifier(**params, random_state = 22) \n",
    "    \n",
    "    model.set_params(**params)\n",
    "\n",
    "    return np.mean(cross_val_score(model, X_train_scaled, y_train, cv=5, scoring='accuracy'))"
   ]
  },
  {
   "cell_type": "code",
   "execution_count": 27,
   "id": "6b25da59",
   "metadata": {},
   "outputs": [
    {
     "name": "stderr",
     "output_type": "stream",
     "text": [
      "\u001b[32m[I 2022-05-19 10:42:52,785]\u001b[0m A new study created in memory with name: no-name-e4df7908-ba61-438d-836a-34a11ef88b52\u001b[0m\n",
      "\u001b[32m[I 2022-05-19 10:44:18,580]\u001b[0m Trial 0 finished with value: 0.8262612233060317 and parameters: {'activation': 'relu', 'solver': 'adam', 'hidden_layer_sizes': 1137, 'alpha': 0.42469533411693366, 'batch_size': 177, 'learning_rate': 'constant'}. Best is trial 0 with value: 0.8262612233060317.\u001b[0m\n",
      "\u001b[32m[I 2022-05-19 11:23:46,254]\u001b[0m Trial 1 finished with value: 0.8452065155756868 and parameters: {'activation': 'relu', 'solver': 'sgd', 'hidden_layer_sizes': 1468, 'alpha': 0.2683983807642763, 'batch_size': 274, 'learning_rate': 'constant'}. Best is trial 1 with value: 0.8452065155756868.\u001b[0m\n",
      "\u001b[32m[I 2022-05-19 11:32:08,182]\u001b[0m Trial 2 finished with value: 0.8476615874236343 and parameters: {'activation': 'relu', 'solver': 'lbfgs', 'hidden_layer_sizes': 336, 'alpha': 0.6831884679819882, 'batch_size': 256, 'learning_rate': 'invscaling'}. Best is trial 2 with value: 0.8476615874236343.\u001b[0m\n",
      "\u001b[32m[I 2022-05-19 11:35:35,881]\u001b[0m Trial 3 finished with value: 0.8267543574393832 and parameters: {'activation': 'tanh', 'solver': 'adam', 'hidden_layer_sizes': 959, 'alpha': 0.7850884511917392, 'batch_size': 240, 'learning_rate': 'constant'}. Best is trial 2 with value: 0.8476615874236343.\u001b[0m\n",
      "\u001b[32m[I 2022-05-19 11:36:28,641]\u001b[0m Trial 4 finished with value: 0.3668089798974131 and parameters: {'activation': 'logistic', 'solver': 'sgd', 'hidden_layer_sizes': 1008, 'alpha': 0.9876258142489287, 'batch_size': 261, 'learning_rate': 'invscaling'}. Best is trial 2 with value: 0.8476615874236343.\u001b[0m\n",
      "\u001b[32m[I 2022-05-19 11:40:38,423]\u001b[0m Trial 5 finished with value: 0.852472150399166 and parameters: {'activation': 'logistic', 'solver': 'lbfgs', 'hidden_layer_sizes': 238, 'alpha': 0.5142782483601649, 'batch_size': 235, 'learning_rate': 'adaptive'}. Best is trial 5 with value: 0.852472150399166.\u001b[0m\n",
      "\u001b[32m[I 2022-05-19 11:46:27,218]\u001b[0m Trial 6 finished with value: 0.5760659400694609 and parameters: {'activation': 'tanh', 'solver': 'sgd', 'hidden_layer_sizes': 947, 'alpha': 0.20081214215515786, 'batch_size': 255, 'learning_rate': 'invscaling'}. Best is trial 5 with value: 0.852472150399166.\u001b[0m\n",
      "\u001b[32m[I 2022-05-19 11:48:02,927]\u001b[0m Trial 7 finished with value: 0.8446182329552926 and parameters: {'activation': 'relu', 'solver': 'adam', 'hidden_layer_sizes': 1283, 'alpha': 0.2562329519156164, 'batch_size': 223, 'learning_rate': 'invscaling'}. Best is trial 5 with value: 0.852472150399166.\u001b[0m\n",
      "\u001b[32m[I 2022-05-19 12:07:44,963]\u001b[0m Trial 8 finished with value: 0.8530609147840515 and parameters: {'activation': 'logistic', 'solver': 'lbfgs', 'hidden_layer_sizes': 880, 'alpha': 0.3768510253499107, 'batch_size': 300, 'learning_rate': 'invscaling'}. Best is trial 8 with value: 0.8530609147840515.\u001b[0m\n",
      "\u001b[32m[I 2022-05-19 13:13:13,453]\u001b[0m Trial 9 finished with value: 0.8324462603754006 and parameters: {'activation': 'relu', 'solver': 'sgd', 'hidden_layer_sizes': 1209, 'alpha': 0.7999321147881602, 'batch_size': 188, 'learning_rate': 'adaptive'}. Best is trial 8 with value: 0.8530609147840515.\u001b[0m\n"
     ]
    }
   ],
   "source": [
    "## MLP\n",
    "\n",
    "study = optuna.create_study(direction='maximize')\n",
    "study.optimize(objective_mlp, n_trials=10)"
   ]
  },
  {
   "cell_type": "code",
   "execution_count": 28,
   "id": "828b8048",
   "metadata": {},
   "outputs": [],
   "source": [
    "def objective_rf(trial):\n",
    "\n",
    "    kfold = StratifiedKFold(n_splits=5, random_state=0, shuffle=True)\n",
    "        \n",
    "    params = {\n",
    "         'n_estimators': trial.suggest_categorical('n_estimators', [650, 700]),\n",
    "         'max_depth': trial.suggest_categorical('max_depth', [80, 85]),\n",
    "         'criterion': trial.suggest_categorical('criterion', ['entropy'])\n",
    "        }\n",
    "  \n",
    "    model = RandomForestClassifier(**params, random_state = 0) \n",
    "    \n",
    "    model.set_params(**params)\n",
    "\n",
    "    return np.mean(cross_val_score(model, X_train_scaled, y_train, cv=kfold, scoring='accuracy'))"
   ]
  },
  {
   "cell_type": "code",
   "execution_count": 29,
   "id": "6f828531",
   "metadata": {},
   "outputs": [
    {
     "name": "stderr",
     "output_type": "stream",
     "text": [
      "\u001b[32m[I 2022-05-19 13:13:13,464]\u001b[0m A new study created in memory with name: no-name-715cf938-afc2-4cd9-8f77-213f0583ffdc\u001b[0m\n",
      "\u001b[32m[I 2022-05-19 13:19:53,166]\u001b[0m Trial 0 finished with value: 0.8843721861942676 and parameters: {'n_estimators': 650, 'max_depth': 85, 'criterion': 'entropy'}. Best is trial 0 with value: 0.8843721861942676.\u001b[0m\n",
      "\u001b[32m[I 2022-05-19 13:26:49,911]\u001b[0m Trial 1 finished with value: 0.8843721861942676 and parameters: {'n_estimators': 650, 'max_depth': 85, 'criterion': 'entropy'}. Best is trial 0 with value: 0.8843721861942676.\u001b[0m\n",
      "\u001b[32m[I 2022-05-19 13:34:13,191]\u001b[0m Trial 2 finished with value: 0.8840779244429477 and parameters: {'n_estimators': 700, 'max_depth': 80, 'criterion': 'entropy'}. Best is trial 0 with value: 0.8843721861942676.\u001b[0m\n",
      "\u001b[32m[I 2022-05-19 13:41:07,091]\u001b[0m Trial 3 finished with value: 0.8843721861942676 and parameters: {'n_estimators': 650, 'max_depth': 80, 'criterion': 'entropy'}. Best is trial 0 with value: 0.8843721861942676.\u001b[0m\n",
      "\u001b[32m[I 2022-05-19 13:47:55,334]\u001b[0m Trial 4 finished with value: 0.8843721861942676 and parameters: {'n_estimators': 650, 'max_depth': 85, 'criterion': 'entropy'}. Best is trial 0 with value: 0.8843721861942676.\u001b[0m\n",
      "\u001b[32m[I 2022-05-19 13:54:52,569]\u001b[0m Trial 5 finished with value: 0.8843721861942676 and parameters: {'n_estimators': 650, 'max_depth': 85, 'criterion': 'entropy'}. Best is trial 0 with value: 0.8843721861942676.\u001b[0m\n",
      "\u001b[32m[I 2022-05-19 14:01:24,123]\u001b[0m Trial 6 finished with value: 0.8843721861942676 and parameters: {'n_estimators': 650, 'max_depth': 85, 'criterion': 'entropy'}. Best is trial 0 with value: 0.8843721861942676.\u001b[0m\n",
      "\u001b[32m[I 2022-05-19 14:08:23,233]\u001b[0m Trial 7 finished with value: 0.8840779244429477 and parameters: {'n_estimators': 700, 'max_depth': 80, 'criterion': 'entropy'}. Best is trial 0 with value: 0.8843721861942676.\u001b[0m\n",
      "\u001b[32m[I 2022-05-19 14:15:01,417]\u001b[0m Trial 8 finished with value: 0.8843721861942676 and parameters: {'n_estimators': 650, 'max_depth': 80, 'criterion': 'entropy'}. Best is trial 0 with value: 0.8843721861942676.\u001b[0m\n",
      "\u001b[32m[I 2022-05-19 14:22:20,554]\u001b[0m Trial 9 finished with value: 0.8840779244429477 and parameters: {'n_estimators': 700, 'max_depth': 80, 'criterion': 'entropy'}. Best is trial 0 with value: 0.8843721861942676.\u001b[0m\n"
     ]
    }
   ],
   "source": [
    "## RANDOM FOREST\n",
    "\n",
    "study = optuna.create_study(direction='maximize')\n",
    "study.optimize(objective_rf, n_trials=10)"
   ]
  },
  {
   "cell_type": "code",
   "execution_count": 30,
   "id": "ca6aa939",
   "metadata": {},
   "outputs": [],
   "source": [
    "def objective_lr(trial):\n",
    "\n",
    "    kfold = StratifiedKFold(n_splits=5, random_state=0, shuffle=True)\n",
    "        \n",
    "    params = {\n",
    "         'multi_class': trial.suggest_categorical('multi_class', ['multinomial']),\n",
    "         'penalty': trial.suggest_categorical('penalty', ['l1', 'l2']),\n",
    "         'solver': trial.suggest_categorical('solver', ['saga']),\n",
    "         'max_iter': 10000\n",
    "        }\n",
    "  \n",
    "    model = LogisticRegression(**params, random_state = 0) \n",
    "    \n",
    "    model.set_params(**params)\n",
    "\n",
    "    return np.mean(cross_val_score(model, X_train_scaled, y_train, cv=kfold, scoring='accuracy'))"
   ]
  },
  {
   "cell_type": "code",
   "execution_count": null,
   "id": "aedf8821",
   "metadata": {},
   "outputs": [
    {
     "name": "stderr",
     "output_type": "stream",
     "text": [
      "\u001b[32m[I 2022-05-19 14:22:20,565]\u001b[0m A new study created in memory with name: no-name-4e2d9d8c-5874-4c4d-aa87-60776b887793\u001b[0m\n",
      "\u001b[32m[I 2022-05-19 14:32:44,843]\u001b[0m Trial 0 finished with value: 0.763445203865871 and parameters: {'multi_class': 'multinomial', 'penalty': 'l2', 'solver': 'saga'}. Best is trial 0 with value: 0.763445203865871.\u001b[0m\n"
     ]
    }
   ],
   "source": [
    "## Logistic Regression\n",
    "\n",
    "study = optuna.create_study(direction='maximize')\n",
    "study.optimize(objective_lr, n_trials=10)"
   ]
  },
  {
   "cell_type": "code",
   "execution_count": null,
   "id": "fd4207e4",
   "metadata": {},
   "outputs": [],
   "source": []
  }
 ],
 "metadata": {
  "kernelspec": {
   "display_name": "Python 3",
   "language": "python",
   "name": "python3"
  },
  "language_info": {
   "codemirror_mode": {
    "name": "ipython",
    "version": 3
   },
   "file_extension": ".py",
   "mimetype": "text/x-python",
   "name": "python",
   "nbconvert_exporter": "python",
   "pygments_lexer": "ipython3",
   "version": "3.8.8"
  }
 },
 "nbformat": 4,
 "nbformat_minor": 5
}
