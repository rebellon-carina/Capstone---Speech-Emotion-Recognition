{
 "cells": [
  {
   "cell_type": "markdown",
   "id": "96a49311",
   "metadata": {},
   "source": [
    "# Using VotingClassifier to build a pipeline"
   ]
  },
  {
   "cell_type": "code",
   "execution_count": 1,
   "id": "d70b0b63",
   "metadata": {},
   "outputs": [],
   "source": [
    "#import packages\n",
    "import numpy as np\n",
    "import matplotlib.pyplot as plt\n",
    "import pandas as pd\n",
    "import seaborn as sns\n",
    "\n",
    "from sklearn.ensemble import RandomForestClassifier\n",
    "from sklearn.linear_model import LogisticRegression\n",
    "from sklearn.neural_network import MLPClassifier\n",
    "from sklearn.ensemble import VotingClassifier\n",
    "\n",
    "from sklearn.preprocessing import StandardScaler, LabelEncoder\n",
    "from sklearn.metrics import confusion_matrix, classification_report\n",
    "from sklearn.model_selection import train_test_split,StratifiedKFold, cross_val_score\n",
    "\n",
    "from datetime import datetime\n",
    "\n",
    "import joblib\n",
    "\n",
    "#for Audio processing\n",
    "from IPython.display import Audio\n",
    "import librosa\n",
    "import librosa.display"
   ]
  },
  {
   "cell_type": "markdown",
   "id": "fb127e0b",
   "metadata": {},
   "source": [
    "### 1. Load our train and test dataset"
   ]
  },
  {
   "cell_type": "code",
   "execution_count": 10,
   "id": "80320fb3",
   "metadata": {},
   "outputs": [],
   "source": [
    "#load the data\n",
    "df_all = pd.read_csv(\"./dataset/all_raw.csv\")\n",
    "\n",
    "#remove the index column\n",
    "df_all = df_all.drop(columns='Unnamed: 0')"
   ]
  },
  {
   "cell_type": "code",
   "execution_count": 11,
   "id": "277ab88f",
   "metadata": {},
   "outputs": [
    {
     "data": {
      "text/plain": [
       "(4528, 3)"
      ]
     },
     "execution_count": 11,
     "metadata": {},
     "output_type": "execute_result"
    }
   ],
   "source": [
    "df_all.shape"
   ]
  },
  {
   "cell_type": "code",
   "execution_count": 12,
   "id": "99402ca9",
   "metadata": {},
   "outputs": [
    {
     "data": {
      "text/html": [
       "<div>\n",
       "<style scoped>\n",
       "    .dataframe tbody tr th:only-of-type {\n",
       "        vertical-align: middle;\n",
       "    }\n",
       "\n",
       "    .dataframe tbody tr th {\n",
       "        vertical-align: top;\n",
       "    }\n",
       "\n",
       "    .dataframe thead th {\n",
       "        text-align: right;\n",
       "    }\n",
       "</style>\n",
       "<table border=\"1\" class=\"dataframe\">\n",
       "  <thead>\n",
       "    <tr style=\"text-align: right;\">\n",
       "      <th></th>\n",
       "      <th>file</th>\n",
       "      <th>emotion</th>\n",
       "      <th>audio</th>\n",
       "    </tr>\n",
       "  </thead>\n",
       "  <tbody>\n",
       "    <tr>\n",
       "      <th>0</th>\n",
       "      <td>./raw_source/RAVDESS/Actor_16/03-01-05-01-02-0...</td>\n",
       "      <td>angry</td>\n",
       "      <td>[ 0.0000000e+00  0.0000000e+00  0.0000000e+00 ...</td>\n",
       "    </tr>\n",
       "    <tr>\n",
       "      <th>1</th>\n",
       "      <td>./raw_source/RAVDESS/Actor_16/03-01-06-01-02-0...</td>\n",
       "      <td>fear</td>\n",
       "      <td>[ 0.0000000e+00  0.0000000e+00  0.0000000e+00 ...</td>\n",
       "    </tr>\n",
       "    <tr>\n",
       "      <th>2</th>\n",
       "      <td>./raw_source/RAVDESS/Actor_16/03-01-06-02-01-0...</td>\n",
       "      <td>fear</td>\n",
       "      <td>[ 3.0036153e-05  2.7443759e-05  9.8903274e-07 ...</td>\n",
       "    </tr>\n",
       "    <tr>\n",
       "      <th>3</th>\n",
       "      <td>./raw_source/RAVDESS/Actor_16/03-01-05-02-01-0...</td>\n",
       "      <td>angry</td>\n",
       "      <td>[ 0.0000000e+00  0.0000000e+00  0.0000000e+00 ...</td>\n",
       "    </tr>\n",
       "    <tr>\n",
       "      <th>4</th>\n",
       "      <td>./raw_source/RAVDESS/Actor_16/03-01-07-01-01-0...</td>\n",
       "      <td>disgust</td>\n",
       "      <td>[ 0.0000000e+00  0.0000000e+00  0.0000000e+00 ...</td>\n",
       "    </tr>\n",
       "  </tbody>\n",
       "</table>\n",
       "</div>"
      ],
      "text/plain": [
       "                                                file  emotion  \\\n",
       "0  ./raw_source/RAVDESS/Actor_16/03-01-05-01-02-0...    angry   \n",
       "1  ./raw_source/RAVDESS/Actor_16/03-01-06-01-02-0...     fear   \n",
       "2  ./raw_source/RAVDESS/Actor_16/03-01-06-02-01-0...     fear   \n",
       "3  ./raw_source/RAVDESS/Actor_16/03-01-05-02-01-0...    angry   \n",
       "4  ./raw_source/RAVDESS/Actor_16/03-01-07-01-01-0...  disgust   \n",
       "\n",
       "                                               audio  \n",
       "0  [ 0.0000000e+00  0.0000000e+00  0.0000000e+00 ...  \n",
       "1  [ 0.0000000e+00  0.0000000e+00  0.0000000e+00 ...  \n",
       "2  [ 3.0036153e-05  2.7443759e-05  9.8903274e-07 ...  \n",
       "3  [ 0.0000000e+00  0.0000000e+00  0.0000000e+00 ...  \n",
       "4  [ 0.0000000e+00  0.0000000e+00  0.0000000e+00 ...  "
      ]
     },
     "execution_count": 12,
     "metadata": {},
     "output_type": "execute_result"
    }
   ],
   "source": [
    "df_all.head()"
   ]
  },
  {
   "cell_type": "markdown",
   "id": "8ab8a407",
   "metadata": {},
   "source": [
    "## Split the dataset"
   ]
  },
  {
   "cell_type": "code",
   "execution_count": null,
   "id": "29b9aed8",
   "metadata": {},
   "outputs": [],
   "source": []
  },
  {
   "cell_type": "code",
   "execution_count": null,
   "id": "585f1486",
   "metadata": {},
   "outputs": [],
   "source": []
  },
  {
   "cell_type": "code",
   "execution_count": null,
   "id": "269ac4e8",
   "metadata": {},
   "outputs": [],
   "source": []
  },
  {
   "cell_type": "markdown",
   "id": "a4176699",
   "metadata": {},
   "source": [
    "### 3. Define X and Y"
   ]
  },
  {
   "cell_type": "code",
   "execution_count": 5,
   "id": "c7c3edd1",
   "metadata": {},
   "outputs": [],
   "source": [
    "#converting categorical labels to numeric for test dataset\n",
    "le = LabelEncoder()\n",
    "df_train['label'] = le.fit_transform(df_train['label'])\n",
    "df_test['label']= le.transform(df_test['label'])"
   ]
  },
  {
   "cell_type": "code",
   "execution_count": 6,
   "id": "a692b14f",
   "metadata": {},
   "outputs": [],
   "source": [
    "#since we already split our data to train and test in the prior notebook, we will just assign the values accordingly\n",
    "X_train = df_train.drop(columns=[\"label\", \"file\"])\n",
    "y_train = df_train[\"label\"]\n",
    "\n",
    "X_test = df_test.drop(columns=[\"label\", \"file\"])\n",
    "y_test = df_test[\"label\"]"
   ]
  },
  {
   "cell_type": "markdown",
   "id": "7d668aec",
   "metadata": {},
   "source": [
    "### 4. Need to scale the data before we build our models"
   ]
  },
  {
   "cell_type": "code",
   "execution_count": null,
   "id": "94c6cff8",
   "metadata": {},
   "outputs": [],
   "source": []
  },
  {
   "cell_type": "code",
   "execution_count": null,
   "id": "16a20d01",
   "metadata": {},
   "outputs": [],
   "source": []
  },
  {
   "cell_type": "code",
   "execution_count": null,
   "id": "47068373",
   "metadata": {},
   "outputs": [],
   "source": []
  },
  {
   "cell_type": "code",
   "execution_count": 51,
   "id": "aaad8d17",
   "metadata": {},
   "outputs": [],
   "source": [
    "# scaling our data with sklearn's Standard scaler\n",
    "scaler = StandardScaler()\n",
    "X_train_scaled = scaler.fit_transform(X_train)\n",
    "X_test_scaled = scaler.transform(X_test)"
   ]
  },
  {
   "cell_type": "markdown",
   "id": "07cdb2a3",
   "metadata": {},
   "source": [
    "### 5. Building Models\n",
    "\n",
    "***BEST PARAMETERS obtained by using OPTUNA***"
   ]
  },
  {
   "cell_type": "code",
   "execution_count": 60,
   "id": "3fe433b3",
   "metadata": {},
   "outputs": [
    {
     "name": "stdout",
     "output_type": "stream",
     "text": [
      "MLP Model Fit.. Current Time = 18:51:07\n",
      "MLP Model Completion.. Current Time = 18:55:05\n"
     ]
    }
   ],
   "source": [
    "## 5.1 Multi-layer Perceptron classifier.\n",
    "\n",
    "##Optuna\n",
    "#Trial 8 finished with value: 0.8530609147840515 and \n",
    "#    parameters: {'activation': 'logistic', 'solver': 'lbfgs', 'hidden_layer_sizes': 880, \n",
    "#                 'alpha': 0.3768510253499107, 'batch_size': 300, 'learning_rate': 'invscaling'}. \n",
    "#        Best is trial 8 with value: 0.8530609147840515.\n",
    "            \n",
    "mlp = MLPClassifier(activation= 'logistic', #'relu', \n",
    "              solver= 'lbfgs', #'sgd', \n",
    "              hidden_layer_sizes= 880, #1200,\n",
    "              alpha= 0.376851, #0.255, \n",
    "              batch_size= 300, #200, \n",
    "              learning_rate= 'invscaling', #'constant',\n",
    "              max_iter=10000\n",
    "             ,random_state= 0)\n",
    "\n",
    "now = datetime.now()\n",
    "current_time = now.strftime(\"%H:%M:%S\")\n",
    "print(f\"MLP Model Fit.. Current Time = {current_time}\")\n",
    "    \n",
    "mlp.fit(X_train_scaled, y_train)\n",
    "\n",
    "now = datetime.now()\n",
    "current_time = now.strftime(\"%H:%M:%S\")\n",
    "print(f\"MLP Model Completion.. Current Time = {current_time}\")\n",
    "\n"
   ]
  },
  {
   "cell_type": "markdown",
   "id": "509f5f71",
   "metadata": {},
   "source": [
    "### Save the best model for future prediction -- Voting Classifier !"
   ]
  },
  {
   "cell_type": "code",
   "execution_count": 20,
   "id": "00bbbb0c",
   "metadata": {},
   "outputs": [
    {
     "data": {
      "text/plain": [
       "['./model/cv_std_scaler.bin']"
      ]
     },
     "execution_count": 20,
     "metadata": {},
     "output_type": "execute_result"
    }
   ],
   "source": [
    "#save the model\n",
    "joblib.dump(models['vc']['model'], './model/cv_ser_model.bin', compress=True)\n",
    "\n",
    "#save the labelencoder\n",
    "joblib.dump(le, './model/cv_label_encoder.bin', compress=True)\n",
    "\n",
    "#save the scaler\n",
    "joblib.dump(scaler, './model/cv_std_scaler.bin', compress=True)"
   ]
  }
 ],
 "metadata": {
  "kernelspec": {
   "display_name": "Python 3",
   "language": "python",
   "name": "python3"
  },
  "language_info": {
   "codemirror_mode": {
    "name": "ipython",
    "version": 3
   },
   "file_extension": ".py",
   "mimetype": "text/x-python",
   "name": "python",
   "nbconvert_exporter": "python",
   "pygments_lexer": "ipython3",
   "version": "3.8.8"
  }
 },
 "nbformat": 4,
 "nbformat_minor": 5
}
